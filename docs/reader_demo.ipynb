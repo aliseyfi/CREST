{
 "cells": [
  {
   "cell_type": "markdown",
   "metadata": {},
   "source": [
    "# CREST Reader"
   ]
  },
  {
   "cell_type": "code",
   "execution_count": 1,
   "metadata": {},
   "outputs": [],
   "source": [
    "import os\n",
    "import sys\n",
    "\n",
    "root_path = os.path.abspath(os.path.join(os.path.dirname(\"__file__\"), '..'))\n",
    "sys.path.insert(0, root_path)\n",
    "\n",
    "from crest import converter\n",
    "from crest import reader\n",
    "\n",
    "converter = converter.Converter()\n",
    "reader = reader.Reader()"
   ]
  },
  {
   "cell_type": "code",
   "execution_count": 2,
   "metadata": {},
   "outputs": [
    {
     "name": "stdout",
     "output_type": "stream",
     "text": [
      "{'span1': [[0, 19]], 'span2': [[32, 47]], 'signal': []}\n",
      "['Habitat degradation']:['stream channels']\n",
      "Habitat degradation from within stream channels, loss of riparian vegetation, and reductions in water quality degrade and also limit the population.\n",
      "\n"
     ]
    },
    {
     "data": {
      "text/plain": [
       "' from within '"
      ]
     },
     "execution_count": 2,
     "metadata": {},
     "output_type": "execute_result"
    }
   ],
   "source": [
    "# loading a sample dataset\n",
    "df = converter.convert_semeval_2007_4()\n",
    "\n",
    "idx = 1\n",
    "print(df.iloc[idx][\"idx\"])\n",
    "print(\"{}:{}\".format(df.iloc[idx][\"span1\"], df.iloc[idx][\"span2\"]))\n",
    "print(df.iloc[idx][\"context\"])\n",
    "\n",
    "# getting text between\n",
    "reader.get_text_between(df.iloc[idx])"
   ]
  },
  {
   "cell_type": "code",
   "execution_count": null,
   "metadata": {},
   "outputs": [],
   "source": []
  }
 ],
 "metadata": {
  "kernelspec": {
   "display_name": "Python [conda env:crest-env] *",
   "language": "python",
   "name": "conda-env-crest-env-py"
  },
  "language_info": {
   "codemirror_mode": {
    "name": "ipython",
    "version": 3
   },
   "file_extension": ".py",
   "mimetype": "text/x-python",
   "name": "python",
   "nbconvert_exporter": "python",
   "pygments_lexer": "ipython3",
   "version": "3.6.10"
  }
 },
 "nbformat": 4,
 "nbformat_minor": 4
}
