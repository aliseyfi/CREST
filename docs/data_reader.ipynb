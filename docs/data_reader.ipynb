{
 "cells": [
  {
   "cell_type": "markdown",
   "metadata": {},
   "source": [
    "## Reading Causal Relations Corpora\n",
    "By: Pedram Hosseini (pdr.hosseini@gmail.com)\n",
    "\n",
    "There have been efforts in creating various causal relation corpora with different level of granularity based on multiple annotation schemes. These efforts, even though admirable, are fairly sparse which makes it hard for people in the NLP community to use the generated knowledge by these resources. To take a step to alleviate this problem to some degree and to make it easier for people to benefit from these data sets with reach source of human annotation, we wrote methods in a **Converter** class to convert all of these resources into a simple and friendly format so that anyone can easily use these samples.\n",
    "We try to keep most of the annotations from the original sources in the new schema so that no information will be lost during the data conversion. In the following, there is a list of current data sets which are covered in our collection:\n",
    "\n",
    "- **SemEval 2007 task 4** - Public (source: **1**)\n",
    "- **SemEval 2010 task 8** - Public (source: **2**)\n",
    "- **EventCausality data set** - Public (source: **3**)\n",
    "- **Causal-TimeBank** - Not public (source: **4**)\n",
    "- **Crowdsourcing-StoryLines 1.2** - Public (source: **5**)\n",
    "- **CaTeRS** - Public (source: **6**)\n",
    "- **BECAUSE v2.1** Public (source: **7**)\n",
    "- **Crowdsourcing-StoryLines 1.5** - Public (source: **8**)\n",
    "- **Your data set?**\n",
    "\n",
    "#### JOIN US\n",
    "We invite everyone in the ML/NLP/NLU community and groups of researchers who work on causal/counterfactual relations extraction in language to contribute to this repository, **crest/converter.py** in particular, so that we all take a step forward in improving the quality of availbale data resources and alleviate the sparsness issue."
   ]
  },
  {
   "cell_type": "code",
   "execution_count": 1,
   "metadata": {},
   "outputs": [],
   "source": [
    "import os\n",
    "import sys\n",
    "\n",
    "root_path = os.path.abspath(os.path.join(os.path.dirname(\"__file__\"), '..'))\n",
    "sys.path.insert(0, root_path)"
   ]
  },
  {
   "cell_type": "code",
   "execution_count": 2,
   "metadata": {
    "pycharm": {
     "name": "#%%\n"
    }
   },
   "outputs": [],
   "source": [
    "from crest import converter\n",
    "converter = converter.Converter()\n",
    "total_samples = 0\n",
    "\n",
    "def find_len_max(df_data):\n",
    "    len_max = 0\n",
    "    i_max = -1\n",
    "    for index, row in df_data.iterrows():\n",
    "        if len(row.context) > len_max:\n",
    "            len_max = len(row.context)\n",
    "            i_max = index\n",
    "    print(\"max length = \" + str(len_max))\n",
    "    print(data.iloc[i_max].context)"
   ]
  },
  {
   "cell_type": "markdown",
   "metadata": {},
   "source": [
    "## SemEval 2007 task 4 "
   ]
  },
  {
   "cell_type": "code",
   "execution_count": 3,
   "metadata": {
    "pycharm": {
     "name": "#%%\n"
    }
   },
   "outputs": [
    {
     "name": "stdout",
     "output_type": "stream",
     "text": [
      "samples: 220\n",
      "+ causal: 114\n",
      "- non-causal: 106\n"
     ]
    }
   ],
   "source": [
    "data = converter.convert_semeval_2007_4()\n",
    "total_samples += len(data)\n",
    "print(\"samples: \" + str(len(data)))\n",
    "print(\"+ causal: {}\".format(len(data.loc[(data[\"label\"] == 1) | (data[\"label\"] == 2)])))\n",
    "print(\"- non-causal: {}\".format(len(data.loc[data[\"label\"] == 0])))"
   ]
  },
  {
   "cell_type": "code",
   "execution_count": 4,
   "metadata": {
    "pycharm": {
     "name": "#%%\n"
    }
   },
   "outputs": [
    {
     "data": {
      "text/html": [
       "<div>\n",
       "<style scoped>\n",
       "    .dataframe tbody tr th:only-of-type {\n",
       "        vertical-align: middle;\n",
       "    }\n",
       "\n",
       "    .dataframe tbody tr th {\n",
       "        vertical-align: top;\n",
       "    }\n",
       "\n",
       "    .dataframe thead th {\n",
       "        text-align: right;\n",
       "    }\n",
       "</style>\n",
       "<table border=\"1\" class=\"dataframe\">\n",
       "  <thead>\n",
       "    <tr style=\"text-align: right;\">\n",
       "      <th></th>\n",
       "      <th>id</th>\n",
       "      <th>span1</th>\n",
       "      <th>span2</th>\n",
       "      <th>signal</th>\n",
       "      <th>context</th>\n",
       "      <th>idx</th>\n",
       "      <th>label</th>\n",
       "      <th>source</th>\n",
       "      <th>ann_file</th>\n",
       "      <th>split</th>\n",
       "    </tr>\n",
       "  </thead>\n",
       "  <tbody>\n",
       "    <tr>\n",
       "      <th>0</th>\n",
       "      <td>1</td>\n",
       "      <td>tumor shrinkage</td>\n",
       "      <td>radiation therapy</td>\n",
       "      <td>[]</td>\n",
       "      <td>The period of tumor shrinkage after radiation ...</td>\n",
       "      <td>{'span1': [[14, 29]], 'span2': [[36, 53]], 'si...</td>\n",
       "      <td>2</td>\n",
       "      <td>1</td>\n",
       "      <td></td>\n",
       "      <td>0</td>\n",
       "    </tr>\n",
       "    <tr>\n",
       "      <th>1</th>\n",
       "      <td>2</td>\n",
       "      <td>Habitat degradation</td>\n",
       "      <td>stream channels</td>\n",
       "      <td>[]</td>\n",
       "      <td>Habitat degradation from within stream channel...</td>\n",
       "      <td>{'span1': [[0, 19]], 'span2': [[32, 47]], 'sig...</td>\n",
       "      <td>0</td>\n",
       "      <td>1</td>\n",
       "      <td></td>\n",
       "      <td>0</td>\n",
       "    </tr>\n",
       "    <tr>\n",
       "      <th>2</th>\n",
       "      <td>3</td>\n",
       "      <td>discomfort</td>\n",
       "      <td>traveling</td>\n",
       "      <td>[]</td>\n",
       "      <td>Earplugs relieve the discomfort from traveling...</td>\n",
       "      <td>{'span1': [[21, 31]], 'span2': [[37, 46]], 'si...</td>\n",
       "      <td>2</td>\n",
       "      <td>1</td>\n",
       "      <td></td>\n",
       "      <td>0</td>\n",
       "    </tr>\n",
       "    <tr>\n",
       "      <th>3</th>\n",
       "      <td>4</td>\n",
       "      <td>daily terror</td>\n",
       "      <td>antipersonnel land mines</td>\n",
       "      <td>[]</td>\n",
       "      <td>We continue to see progress toward a world fre...</td>\n",
       "      <td>{'span1': [[55, 67]], 'span2': [[71, 95]], 'si...</td>\n",
       "      <td>2</td>\n",
       "      <td>1</td>\n",
       "      <td></td>\n",
       "      <td>0</td>\n",
       "    </tr>\n",
       "    <tr>\n",
       "      <th>4</th>\n",
       "      <td>5</td>\n",
       "      <td>segment</td>\n",
       "      <td>anecdotes</td>\n",
       "      <td>[]</td>\n",
       "      <td>The Global Warming segment starts off with two...</td>\n",
       "      <td>{'span1': [[19, 26]], 'span2': [[53, 62]], 'si...</td>\n",
       "      <td>0</td>\n",
       "      <td>1</td>\n",
       "      <td></td>\n",
       "      <td>0</td>\n",
       "    </tr>\n",
       "  </tbody>\n",
       "</table>\n",
       "</div>"
      ],
      "text/plain": [
       "  id                span1                     span2 signal  \\\n",
       "0  1      tumor shrinkage         radiation therapy     []   \n",
       "1  2  Habitat degradation           stream channels     []   \n",
       "2  3           discomfort                 traveling     []   \n",
       "3  4         daily terror  antipersonnel land mines     []   \n",
       "4  5              segment                 anecdotes     []   \n",
       "\n",
       "                                             context  \\\n",
       "0  The period of tumor shrinkage after radiation ...   \n",
       "1  Habitat degradation from within stream channel...   \n",
       "2  Earplugs relieve the discomfort from traveling...   \n",
       "3  We continue to see progress toward a world fre...   \n",
       "4  The Global Warming segment starts off with two...   \n",
       "\n",
       "                                                 idx label source ann_file  \\\n",
       "0  {'span1': [[14, 29]], 'span2': [[36, 53]], 'si...     2      1            \n",
       "1  {'span1': [[0, 19]], 'span2': [[32, 47]], 'sig...     0      1            \n",
       "2  {'span1': [[21, 31]], 'span2': [[37, 46]], 'si...     2      1            \n",
       "3  {'span1': [[55, 67]], 'span2': [[71, 95]], 'si...     2      1            \n",
       "4  {'span1': [[19, 26]], 'span2': [[53, 62]], 'si...     0      1            \n",
       "\n",
       "  split  \n",
       "0     0  \n",
       "1     0  \n",
       "2     0  \n",
       "3     0  \n",
       "4     0  "
      ]
     },
     "execution_count": 4,
     "metadata": {},
     "output_type": "execute_result"
    }
   ],
   "source": [
    "data.head()"
   ]
  },
  {
   "cell_type": "code",
   "execution_count": 5,
   "metadata": {},
   "outputs": [
    {
     "name": "stdout",
     "output_type": "stream",
     "text": [
      "max length = 493\n",
      "Literary criticism is the study of literature by means of a microscopic knowledge of the language in which a book is written, of its growth from various roots, of its stages of development and the factors influencing them, of its condition in the period of this particular composition, of the writer's idiosyncrasies of thought and style in his ripening periods, of the general history and literature of his race, and of the special characteristics of his age and of his contemporary writers.\n",
      "\n"
     ]
    }
   ],
   "source": [
    "find_len_max(data)"
   ]
  },
  {
   "cell_type": "markdown",
   "metadata": {},
   "source": [
    "## SemEval 2010 task 8"
   ]
  },
  {
   "cell_type": "code",
   "execution_count": 6,
   "metadata": {
    "pycharm": {
     "name": "#%%\n"
    }
   },
   "outputs": [
    {
     "name": "stdout",
     "output_type": "stream",
     "text": [
      "samples: 10717\n",
      "+ causal: 1331\n",
      "- non-causal: 9386\n"
     ]
    }
   ],
   "source": [
    "data = converter.convert_semeval_2010_8()\n",
    "total_samples += len(data)\n",
    "print(\"samples: {}\".format(len(data)))\n",
    "print(\"+ causal: {}\".format(len(data.loc[(data[\"label\"] == 1) | (data[\"label\"] == 2)])))\n",
    "print(\"- non-causal: {}\".format(len(data.loc[data[\"label\"] == 0])))"
   ]
  },
  {
   "cell_type": "code",
   "execution_count": 7,
   "metadata": {
    "pycharm": {
     "name": "#%%\n"
    }
   },
   "outputs": [
    {
     "data": {
      "text/html": [
       "<div>\n",
       "<style scoped>\n",
       "    .dataframe tbody tr th:only-of-type {\n",
       "        vertical-align: middle;\n",
       "    }\n",
       "\n",
       "    .dataframe tbody tr th {\n",
       "        vertical-align: top;\n",
       "    }\n",
       "\n",
       "    .dataframe thead th {\n",
       "        text-align: right;\n",
       "    }\n",
       "</style>\n",
       "<table border=\"1\" class=\"dataframe\">\n",
       "  <thead>\n",
       "    <tr style=\"text-align: right;\">\n",
       "      <th></th>\n",
       "      <th>id</th>\n",
       "      <th>span1</th>\n",
       "      <th>span2</th>\n",
       "      <th>signal</th>\n",
       "      <th>context</th>\n",
       "      <th>idx</th>\n",
       "      <th>label</th>\n",
       "      <th>source</th>\n",
       "      <th>ann_file</th>\n",
       "      <th>split</th>\n",
       "    </tr>\n",
       "  </thead>\n",
       "  <tbody>\n",
       "    <tr>\n",
       "      <th>0</th>\n",
       "      <td>1</td>\n",
       "      <td>configuration</td>\n",
       "      <td>elements</td>\n",
       "      <td>[]</td>\n",
       "      <td>The system as described above has its greatest...</td>\n",
       "      <td>{'span1': [[73, 86]], 'span2': [[98, 106]], 's...</td>\n",
       "      <td>0</td>\n",
       "      <td>2</td>\n",
       "      <td></td>\n",
       "      <td>0</td>\n",
       "    </tr>\n",
       "    <tr>\n",
       "      <th>1</th>\n",
       "      <td>2</td>\n",
       "      <td>child</td>\n",
       "      <td>cradle</td>\n",
       "      <td>[]</td>\n",
       "      <td>The child was carefully wrapped and bound into...</td>\n",
       "      <td>{'span1': [[4, 9]], 'span2': [[51, 57]], 'sign...</td>\n",
       "      <td>0</td>\n",
       "      <td>2</td>\n",
       "      <td></td>\n",
       "      <td>0</td>\n",
       "    </tr>\n",
       "    <tr>\n",
       "      <th>2</th>\n",
       "      <td>3</td>\n",
       "      <td>author</td>\n",
       "      <td>disassembler</td>\n",
       "      <td>[]</td>\n",
       "      <td>The author of a keygen uses a disassembler to ...</td>\n",
       "      <td>{'span1': [[4, 10]], 'span2': [[30, 42]], 'sig...</td>\n",
       "      <td>0</td>\n",
       "      <td>2</td>\n",
       "      <td></td>\n",
       "      <td>0</td>\n",
       "    </tr>\n",
       "    <tr>\n",
       "      <th>3</th>\n",
       "      <td>4</td>\n",
       "      <td>ridge</td>\n",
       "      <td>surge</td>\n",
       "      <td>[]</td>\n",
       "      <td>A misty ridge uprises from the surge.\\n</td>\n",
       "      <td>{'span1': [[8, 13]], 'span2': [[31, 36]], 'sig...</td>\n",
       "      <td>0</td>\n",
       "      <td>2</td>\n",
       "      <td></td>\n",
       "      <td>0</td>\n",
       "    </tr>\n",
       "    <tr>\n",
       "      <th>4</th>\n",
       "      <td>5</td>\n",
       "      <td>student</td>\n",
       "      <td>association</td>\n",
       "      <td>[]</td>\n",
       "      <td>The student association is the voice of the un...</td>\n",
       "      <td>{'span1': [[4, 11]], 'span2': [[12, 23]], 'sig...</td>\n",
       "      <td>0</td>\n",
       "      <td>2</td>\n",
       "      <td></td>\n",
       "      <td>0</td>\n",
       "    </tr>\n",
       "  </tbody>\n",
       "</table>\n",
       "</div>"
      ],
      "text/plain": [
       "  id          span1         span2 signal  \\\n",
       "0  1  configuration      elements     []   \n",
       "1  2          child        cradle     []   \n",
       "2  3         author  disassembler     []   \n",
       "3  4          ridge         surge     []   \n",
       "4  5        student   association     []   \n",
       "\n",
       "                                             context  \\\n",
       "0  The system as described above has its greatest...   \n",
       "1  The child was carefully wrapped and bound into...   \n",
       "2  The author of a keygen uses a disassembler to ...   \n",
       "3            A misty ridge uprises from the surge.\\n   \n",
       "4  The student association is the voice of the un...   \n",
       "\n",
       "                                                 idx label source ann_file  \\\n",
       "0  {'span1': [[73, 86]], 'span2': [[98, 106]], 's...     0      2            \n",
       "1  {'span1': [[4, 9]], 'span2': [[51, 57]], 'sign...     0      2            \n",
       "2  {'span1': [[4, 10]], 'span2': [[30, 42]], 'sig...     0      2            \n",
       "3  {'span1': [[8, 13]], 'span2': [[31, 36]], 'sig...     0      2            \n",
       "4  {'span1': [[4, 11]], 'span2': [[12, 23]], 'sig...     0      2            \n",
       "\n",
       "  split  \n",
       "0     0  \n",
       "1     0  \n",
       "2     0  \n",
       "3     0  \n",
       "4     0  "
      ]
     },
     "execution_count": 7,
     "metadata": {},
     "output_type": "execute_result"
    }
   ],
   "source": [
    "data.head()"
   ]
  },
  {
   "cell_type": "code",
   "execution_count": 8,
   "metadata": {
    "pycharm": {
     "name": "#%%\n"
    }
   },
   "outputs": [
    {
     "name": "stdout",
     "output_type": "stream",
     "text": [
      "max length = 493\n",
      "Literary criticism is the study of literature by means of a microscopic knowledge of the language in which a book is written, of its growth from various roots, of its stages of development and the factors influencing them, of its condition in the period of this particular composition, of the writer's idiosyncrasies of thought and style in his ripening periods, of the general history and literature of his race, and of the special characteristics of his age and of his contemporary writers.\n",
      "\n"
     ]
    }
   ],
   "source": [
    "find_len_max(data)"
   ]
  },
  {
   "cell_type": "markdown",
   "metadata": {},
   "source": [
    "## EventCausality data set"
   ]
  },
  {
   "cell_type": "code",
   "execution_count": 9,
   "metadata": {
    "pycharm": {
     "name": "#%%\n"
    }
   },
   "outputs": [
    {
     "name": "stdout",
     "output_type": "stream",
     "text": [
      "samples: 485\n",
      "+ causal: 485\n",
      "- non-causal: 0\n"
     ]
    }
   ],
   "source": [
    "data = converter.convert_event_causality()\n",
    "total_samples += len(data)\n",
    "print(\"samples: \" + str(len(data)))\n",
    "print(\"+ causal: {}\".format(len(data.loc[(data[\"label\"] == 1) | (data[\"label\"] == 2)])))\n",
    "print(\"- non-causal: {}\".format(len(data.loc[data[\"label\"] == 0])))"
   ]
  },
  {
   "cell_type": "code",
   "execution_count": 10,
   "metadata": {
    "pycharm": {
     "name": "#%%\n"
    }
   },
   "outputs": [
    {
     "data": {
      "text/html": [
       "<div>\n",
       "<style scoped>\n",
       "    .dataframe tbody tr th:only-of-type {\n",
       "        vertical-align: middle;\n",
       "    }\n",
       "\n",
       "    .dataframe tbody tr th {\n",
       "        vertical-align: top;\n",
       "    }\n",
       "\n",
       "    .dataframe thead th {\n",
       "        text-align: right;\n",
       "    }\n",
       "</style>\n",
       "<table border=\"1\" class=\"dataframe\">\n",
       "  <thead>\n",
       "    <tr style=\"text-align: right;\">\n",
       "      <th></th>\n",
       "      <th>id</th>\n",
       "      <th>span1</th>\n",
       "      <th>span2</th>\n",
       "      <th>signal</th>\n",
       "      <th>context</th>\n",
       "      <th>idx</th>\n",
       "      <th>label</th>\n",
       "      <th>source</th>\n",
       "      <th>ann_file</th>\n",
       "      <th>split</th>\n",
       "    </tr>\n",
       "  </thead>\n",
       "  <tbody>\n",
       "    <tr>\n",
       "      <th>0</th>\n",
       "      <td>1</td>\n",
       "      <td>attacks</td>\n",
       "      <td>conclude</td>\n",
       "      <td>[]</td>\n",
       "      <td>The company says the attacks \" have led us to ...</td>\n",
       "      <td>{'span1': [[21, 28]], 'span2': [[46, 54]], 'si...</td>\n",
       "      <td>1</td>\n",
       "      <td>3</td>\n",
       "      <td></td>\n",
       "      <td>1</td>\n",
       "    </tr>\n",
       "    <tr>\n",
       "      <th>1</th>\n",
       "      <td>2</td>\n",
       "      <td>conclude</td>\n",
       "      <td>review</td>\n",
       "      <td>[]</td>\n",
       "      <td>The company says the attacks \" have led us to ...</td>\n",
       "      <td>{'span1': [[46, 54]], 'span2': [[70, 76]], 'si...</td>\n",
       "      <td>1</td>\n",
       "      <td>3</td>\n",
       "      <td></td>\n",
       "      <td>1</td>\n",
       "    </tr>\n",
       "    <tr>\n",
       "      <th>2</th>\n",
       "      <td>3</td>\n",
       "      <td>deliveries</td>\n",
       "      <td>interpreted</td>\n",
       "      <td>[]</td>\n",
       "      <td>A large number of flower deliveries were made ...</td>\n",
       "      <td>{'span1': [[25, 35]], 'span2': [[105, 116]], '...</td>\n",
       "      <td>1</td>\n",
       "      <td>3</td>\n",
       "      <td></td>\n",
       "      <td>1</td>\n",
       "    </tr>\n",
       "    <tr>\n",
       "      <th>3</th>\n",
       "      <td>4</td>\n",
       "      <td>leaves</td>\n",
       "      <td>advancement</td>\n",
       "      <td>[]</td>\n",
       "      <td>\" If Google leaves China , it is likely to be ...</td>\n",
       "      <td>{'span1': [[12, 18]], 'span2': [[57, 68]], 'si...</td>\n",
       "      <td>1</td>\n",
       "      <td>3</td>\n",
       "      <td></td>\n",
       "      <td>1</td>\n",
       "    </tr>\n",
       "    <tr>\n",
       "      <th>4</th>\n",
       "      <td>5</td>\n",
       "      <td>leaves</td>\n",
       "      <td>success</td>\n",
       "      <td>[]</td>\n",
       "      <td>\" If Google leaves China , it is likely to be ...</td>\n",
       "      <td>{'span1': [[12, 18]], 'span2': [[87, 94]], 'si...</td>\n",
       "      <td>1</td>\n",
       "      <td>3</td>\n",
       "      <td></td>\n",
       "      <td>1</td>\n",
       "    </tr>\n",
       "  </tbody>\n",
       "</table>\n",
       "</div>"
      ],
      "text/plain": [
       "  id       span1        span2 signal  \\\n",
       "0  1     attacks     conclude     []   \n",
       "1  2    conclude       review     []   \n",
       "2  3  deliveries  interpreted     []   \n",
       "3  4      leaves  advancement     []   \n",
       "4  5      leaves      success     []   \n",
       "\n",
       "                                             context  \\\n",
       "0  The company says the attacks \" have led us to ...   \n",
       "1  The company says the attacks \" have led us to ...   \n",
       "2  A large number of flower deliveries were made ...   \n",
       "3  \" If Google leaves China , it is likely to be ...   \n",
       "4  \" If Google leaves China , it is likely to be ...   \n",
       "\n",
       "                                                 idx label source ann_file  \\\n",
       "0  {'span1': [[21, 28]], 'span2': [[46, 54]], 'si...     1      3            \n",
       "1  {'span1': [[46, 54]], 'span2': [[70, 76]], 'si...     1      3            \n",
       "2  {'span1': [[25, 35]], 'span2': [[105, 116]], '...     1      3            \n",
       "3  {'span1': [[12, 18]], 'span2': [[57, 68]], 'si...     1      3            \n",
       "4  {'span1': [[12, 18]], 'span2': [[87, 94]], 'si...     1      3            \n",
       "\n",
       "  split  \n",
       "0     1  \n",
       "1     1  \n",
       "2     1  \n",
       "3     1  \n",
       "4     1  "
      ]
     },
     "execution_count": 10,
     "metadata": {},
     "output_type": "execute_result"
    }
   ],
   "source": [
    "data.head()"
   ]
  },
  {
   "cell_type": "code",
   "execution_count": 11,
   "metadata": {
    "pycharm": {
     "name": "#%%\n"
    }
   },
   "outputs": [
    {
     "name": "stdout",
     "output_type": "stream",
     "text": [
      "max length = 1083\n",
      "French police responded to reports of car theft in a town near Paris late Tuesday and a shootout ensued with a group of alleged thieves . Most of them escaped but police captured one and he was later identified as a suspected ETA member , said the spokeswoman , who by custom is not identified .  Spanish media reported that the shootout occurred in the town of Dammarie-les-Lys .  The dead French policeman was wearing a bullet-proof vest but bullets struck fatally elsewhere on his body .  He was reported to be in his 50s , and the father of four children .  ETA has traditionally used France as its rearguard logistics and planning base to prepare attacks across the border in Spain , officials say .  But in recent years as Spain has enlisted increased cooperation from France in cracking down on ETA hideouts , there have been various exchanges of gunfire between ETA suspects and French police , wounding some officers .  Almost all of ETA 's fatal shootings and car bombings have occurred in Spain .  But in December 2007 , ETA shot dead two Spanish Civil Guards in France . \n"
     ]
    }
   ],
   "source": [
    "find_len_max(data)"
   ]
  },
  {
   "cell_type": "markdown",
   "metadata": {},
   "source": [
    "## Causal-TimeBank"
   ]
  },
  {
   "cell_type": "code",
   "execution_count": 12,
   "metadata": {
    "pycharm": {
     "name": "#%%\n"
    }
   },
   "outputs": [
    {
     "name": "stdout",
     "output_type": "stream",
     "text": [
      "samples: 318\n"
     ]
    }
   ],
   "source": [
    "data = converter.convert_causal_timebank()\n",
    "total_samples += len(data)\n",
    "print(\"samples: \" + str(len(data)))"
   ]
  },
  {
   "cell_type": "code",
   "execution_count": 13,
   "metadata": {},
   "outputs": [
    {
     "data": {
      "text/html": [
       "<div>\n",
       "<style scoped>\n",
       "    .dataframe tbody tr th:only-of-type {\n",
       "        vertical-align: middle;\n",
       "    }\n",
       "\n",
       "    .dataframe tbody tr th {\n",
       "        vertical-align: top;\n",
       "    }\n",
       "\n",
       "    .dataframe thead th {\n",
       "        text-align: right;\n",
       "    }\n",
       "</style>\n",
       "<table border=\"1\" class=\"dataframe\">\n",
       "  <thead>\n",
       "    <tr style=\"text-align: right;\">\n",
       "      <th></th>\n",
       "      <th>id</th>\n",
       "      <th>span1</th>\n",
       "      <th>span2</th>\n",
       "      <th>signal</th>\n",
       "      <th>context</th>\n",
       "      <th>idx</th>\n",
       "      <th>label</th>\n",
       "      <th>source</th>\n",
       "      <th>ann_file</th>\n",
       "      <th>split</th>\n",
       "    </tr>\n",
       "  </thead>\n",
       "  <tbody>\n",
       "    <tr>\n",
       "      <th>0</th>\n",
       "      <td>1</td>\n",
       "      <td>was</td>\n",
       "      <td>thought</td>\n",
       "      <td>[So]</td>\n",
       "      <td>Not that long ago , before the Chinese takeove...</td>\n",
       "      <td>{'span1': [[82, 85]], 'span2': [[215, 222]], '...</td>\n",
       "      <td>1</td>\n",
       "      <td>4</td>\n",
       "      <td></td>\n",
       "      <td></td>\n",
       "    </tr>\n",
       "    <tr>\n",
       "      <th>1</th>\n",
       "      <td>2</td>\n",
       "      <td>downturn</td>\n",
       "      <td>spending</td>\n",
       "      <td>[]</td>\n",
       "      <td>But in the past three months , stocks have plu...</td>\n",
       "      <td>{'span1': [[88, 96]], 'span2': [[139, 147]], '...</td>\n",
       "      <td>1</td>\n",
       "      <td>4</td>\n",
       "      <td></td>\n",
       "      <td></td>\n",
       "    </tr>\n",
       "    <tr>\n",
       "      <th>2</th>\n",
       "      <td>3</td>\n",
       "      <td>change</td>\n",
       "      <td>reposition</td>\n",
       "      <td>[So]</td>\n",
       "      <td>I think that the mood is fairly gloomy , and I...</td>\n",
       "      <td>{'span1': [[72, 78]], 'span2': [[174, 184]], '...</td>\n",
       "      <td>1</td>\n",
       "      <td>4</td>\n",
       "      <td></td>\n",
       "      <td></td>\n",
       "    </tr>\n",
       "    <tr>\n",
       "      <th>3</th>\n",
       "      <td>4</td>\n",
       "      <td>rains</td>\n",
       "      <td>landslides</td>\n",
       "      <td>[]</td>\n",
       "      <td>Officials in California are warning residents ...</td>\n",
       "      <td>{'span1': [[60, 65]], 'span2': [[105, 115]], '...</td>\n",
       "      <td>1</td>\n",
       "      <td>4</td>\n",
       "      <td></td>\n",
       "      <td></td>\n",
       "    </tr>\n",
       "    <tr>\n",
       "      <th>4</th>\n",
       "      <td>5</td>\n",
       "      <td>get</td>\n",
       "      <td>rains</td>\n",
       "      <td>[]</td>\n",
       "      <td>Forecasters say the picture will get worse bec...</td>\n",
       "      <td>{'span1': [[33, 36]], 'span2': [[56, 61]], 'si...</td>\n",
       "      <td>2</td>\n",
       "      <td>4</td>\n",
       "      <td></td>\n",
       "      <td></td>\n",
       "    </tr>\n",
       "  </tbody>\n",
       "</table>\n",
       "</div>"
      ],
      "text/plain": [
       "  id     span1       span2 signal  \\\n",
       "0  1       was     thought   [So]   \n",
       "1  2  downturn    spending     []   \n",
       "2  3    change  reposition   [So]   \n",
       "3  4     rains  landslides     []   \n",
       "4  5       get       rains     []   \n",
       "\n",
       "                                             context  \\\n",
       "0  Not that long ago , before the Chinese takeove...   \n",
       "1  But in the past three months , stocks have plu...   \n",
       "2  I think that the mood is fairly gloomy , and I...   \n",
       "3  Officials in California are warning residents ...   \n",
       "4  Forecasters say the picture will get worse bec...   \n",
       "\n",
       "                                                 idx label source ann_file  \\\n",
       "0  {'span1': [[82, 85]], 'span2': [[215, 222]], '...     1      4            \n",
       "1  {'span1': [[88, 96]], 'span2': [[139, 147]], '...     1      4            \n",
       "2  {'span1': [[72, 78]], 'span2': [[174, 184]], '...     1      4            \n",
       "3  {'span1': [[60, 65]], 'span2': [[105, 115]], '...     1      4            \n",
       "4  {'span1': [[33, 36]], 'span2': [[56, 61]], 'si...     2      4            \n",
       "\n",
       "  split  \n",
       "0        \n",
       "1        \n",
       "2        \n",
       "3        \n",
       "4        "
      ]
     },
     "execution_count": 13,
     "metadata": {},
     "output_type": "execute_result"
    }
   ],
   "source": [
    "data.head()"
   ]
  },
  {
   "cell_type": "code",
   "execution_count": 14,
   "metadata": {
    "pycharm": {
     "name": "#%%\n"
    }
   },
   "outputs": [
    {
     "name": "stdout",
     "output_type": "stream",
     "text": [
      "max length = 616\n",
      "WASHINGTON _ Following are statements made Friday and Thursday by Lawrence Wechsler , a lawyer for the White House secretary , Betty Currie ; the White House ; White House spokesman Mike McCurry , and President Clinton in response to an article in The New York Times on Friday about her statements regarding a meeting with the president : Wechsler on Thursday \" Without commenting on the allegations raised in this article , to the extent that there is any implication or suggestion that Mrs. Currie was aware of any legal or ethical impropriety by anyone , that implication or suggestion is entirely inaccurate . \" \n"
     ]
    }
   ],
   "source": [
    "find_len_max(data)"
   ]
  },
  {
   "cell_type": "markdown",
   "metadata": {},
   "source": [
    "## EventStoryLine v1.5"
   ]
  },
  {
   "cell_type": "code",
   "execution_count": 15,
   "metadata": {
    "pycharm": {
     "name": "#%%\n"
    }
   },
   "outputs": [
    {
     "name": "stdout",
     "output_type": "stream",
     "text": [
      "samples: 2608\n",
      "+ causal: 1269\n",
      "- non-causal: 1339\n"
     ]
    }
   ],
   "source": [
    "data = converter.convert_event_storylines()\n",
    "total_samples += len(data)\n",
    "print(\"samples: \" + str(len(data)))\n",
    "print(\"+ causal: {}\".format(len(data.loc[(data[\"label\"] == 1) | (data[\"label\"] == 2)])))\n",
    "print(\"- non-causal: {}\".format(len(data.loc[data[\"label\"] == 0])))"
   ]
  },
  {
   "cell_type": "code",
   "execution_count": 16,
   "metadata": {
    "pycharm": {
     "name": "#%%\n"
    }
   },
   "outputs": [
    {
     "data": {
      "text/html": [
       "<div>\n",
       "<style scoped>\n",
       "    .dataframe tbody tr th:only-of-type {\n",
       "        vertical-align: middle;\n",
       "    }\n",
       "\n",
       "    .dataframe tbody tr th {\n",
       "        vertical-align: top;\n",
       "    }\n",
       "\n",
       "    .dataframe thead th {\n",
       "        text-align: right;\n",
       "    }\n",
       "</style>\n",
       "<table border=\"1\" class=\"dataframe\">\n",
       "  <thead>\n",
       "    <tr style=\"text-align: right;\">\n",
       "      <th></th>\n",
       "      <th>id</th>\n",
       "      <th>span1</th>\n",
       "      <th>span2</th>\n",
       "      <th>signal</th>\n",
       "      <th>context</th>\n",
       "      <th>idx</th>\n",
       "      <th>label</th>\n",
       "      <th>source</th>\n",
       "      <th>ann_file</th>\n",
       "      <th>split</th>\n",
       "    </tr>\n",
       "  </thead>\n",
       "  <tbody>\n",
       "    <tr>\n",
       "      <th>0</th>\n",
       "      <td>1</td>\n",
       "      <td>double murder</td>\n",
       "      <td>killing</td>\n",
       "      <td>[]</td>\n",
       "      <td>Cumbria double murder : Son suspected of killi...</td>\n",
       "      <td>{'span1': [[8, 21]], 'span2': [[41, 48]], 'sig...</td>\n",
       "      <td>2</td>\n",
       "      <td>5</td>\n",
       "      <td>32_11ecbplus.xml.xml</td>\n",
       "      <td></td>\n",
       "    </tr>\n",
       "    <tr>\n",
       "      <th>1</th>\n",
       "      <td>2</td>\n",
       "      <td>sectioned</td>\n",
       "      <td>suicide attempt</td>\n",
       "      <td>[]</td>\n",
       "      <td>John Jenkin , 23 , had been sectioned after an...</td>\n",
       "      <td>{'span1': [[28, 37]], 'span2': [[56, 71]], 'si...</td>\n",
       "      <td>2</td>\n",
       "      <td>5</td>\n",
       "      <td>32_11ecbplus.xml.xml</td>\n",
       "      <td></td>\n",
       "    </tr>\n",
       "    <tr>\n",
       "      <th>2</th>\n",
       "      <td>3</td>\n",
       "      <td>double murder</td>\n",
       "      <td>dead</td>\n",
       "      <td>[]</td>\n",
       "      <td>John Jenkin , 23 , had been sectioned after an...</td>\n",
       "      <td>{'span1': [[95, 108]], 'span2': [[165, 169]], ...</td>\n",
       "      <td>2</td>\n",
       "      <td>5</td>\n",
       "      <td>32_11ecbplus.xml.xml</td>\n",
       "      <td></td>\n",
       "    </tr>\n",
       "    <tr>\n",
       "      <th>3</th>\n",
       "      <td>4</td>\n",
       "      <td>double murder</td>\n",
       "      <td>dead</td>\n",
       "      <td>[]</td>\n",
       "      <td>Cumbria double murder : Son suspected of killi...</td>\n",
       "      <td>{'span1': [[8, 21]], 'span2': [[303, 307]], 's...</td>\n",
       "      <td>2</td>\n",
       "      <td>5</td>\n",
       "      <td>32_11ecbplus.xml.xml</td>\n",
       "      <td></td>\n",
       "    </tr>\n",
       "    <tr>\n",
       "      <th>4</th>\n",
       "      <td>5</td>\n",
       "      <td>killing</td>\n",
       "      <td>dead</td>\n",
       "      <td>[]</td>\n",
       "      <td>Cumbria double murder : Son suspected of killi...</td>\n",
       "      <td>{'span1': [[41, 48]], 'span2': [[303, 307]], '...</td>\n",
       "      <td>0</td>\n",
       "      <td>5</td>\n",
       "      <td>32_11ecbplus.xml.xml</td>\n",
       "      <td></td>\n",
       "    </tr>\n",
       "  </tbody>\n",
       "</table>\n",
       "</div>"
      ],
      "text/plain": [
       "  id          span1            span2 signal  \\\n",
       "0  1  double murder          killing     []   \n",
       "1  2      sectioned  suicide attempt     []   \n",
       "2  3  double murder             dead     []   \n",
       "3  4  double murder             dead     []   \n",
       "4  5        killing             dead     []   \n",
       "\n",
       "                                             context  \\\n",
       "0  Cumbria double murder : Son suspected of killi...   \n",
       "1  John Jenkin , 23 , had been sectioned after an...   \n",
       "2  John Jenkin , 23 , had been sectioned after an...   \n",
       "3  Cumbria double murder : Son suspected of killi...   \n",
       "4  Cumbria double murder : Son suspected of killi...   \n",
       "\n",
       "                                                 idx label source  \\\n",
       "0  {'span1': [[8, 21]], 'span2': [[41, 48]], 'sig...     2      5   \n",
       "1  {'span1': [[28, 37]], 'span2': [[56, 71]], 'si...     2      5   \n",
       "2  {'span1': [[95, 108]], 'span2': [[165, 169]], ...     2      5   \n",
       "3  {'span1': [[8, 21]], 'span2': [[303, 307]], 's...     2      5   \n",
       "4  {'span1': [[41, 48]], 'span2': [[303, 307]], '...     0      5   \n",
       "\n",
       "               ann_file split  \n",
       "0  32_11ecbplus.xml.xml        \n",
       "1  32_11ecbplus.xml.xml        \n",
       "2  32_11ecbplus.xml.xml        \n",
       "3  32_11ecbplus.xml.xml        \n",
       "4  32_11ecbplus.xml.xml        "
      ]
     },
     "execution_count": 16,
     "metadata": {},
     "output_type": "execute_result"
    }
   ],
   "source": [
    "data.head()"
   ]
  },
  {
   "cell_type": "code",
   "execution_count": 17,
   "metadata": {
    "pycharm": {
     "name": "#%%\n"
    }
   },
   "outputs": [
    {
     "name": "stdout",
     "output_type": "stream",
     "text": [
      "max length = 4674\n",
      "The Athens protest march marking the zenith of the general strike called for the 5th of May was attended by an approximate 200 , 000 ( 20 , 000 which is the foreign broadcast number referring to the PAME march alone ) , although because of lack of media coverage due to the media participation in the general strike no concrete estimates can be made . After the PAME ( Communist Party union ) protesters left Syntagma square , the first lines of the main march started arriving before the Parliament with the first clashes erupting at the end of Stadiou street . The march then walked on the Unknown Soldier grounds leading the Presidential Guard to retreat , and attempted to storm the Parliament but was pushed back by riot police forces which today demonstrated a particularly staunch attitude and resolve against the demonstrators . Soon battles erupted around the Parliament with protesters throwing Molotov cocktails and rocks , with one riot police armored van torched , and the police responding by extended use of tear gas that soon made Athens' atmosphere unbearably acrid . As more blocks reached Syntagma square , the battles spread across the city center and lasted for more than five hours . During the clashes several state buildings were set ablaze including the County Headquarters of Attika . At the time of writing the Ministry of Finance is reported to be on fire , and vital tax documents as destroyed by the raging fire . However the strange thing is that it is the fourth floor of the building that is burning , at a height inapproachable to petrol bombs . The building is in danger of total collapse . According to news reports that began at 14 : 00 Greek time after , under pressure by the events , most radio and TV stations decided to break their strike , claim that the fire at Marfin Bank's Stadiou street branch that has led to the death of three workers ( one a pregnant woman ) was started by protesters . However this remains an unsubstantiated claim . A similar case three decades ago had originally put the blame for the fire at Kappa - Marousi building on Panepistimiou street , leading to the death of several people inside , to anarchists , while its was later proved the fire was caused by tear gas fired by the police . After the tragic death of the three workers made the round of Athens , new clashes started to spread in the Greek capital , with a large crowd gathered outside the burned bank when Marfin's boss tried to visit the site . Clashes broke out between the crowd and police when the former attacked the bank magnate accusing him of forcing the dead workers to scab on a general strike and locking them in the building despite them demanding to evacuate it since 12 : 00 . In Parliament the Communist Party of Greece has accused the government for the deaths , claiming it was a result of agents provocateur fascist groups . The claims of the Communist Party are based on the fact that 50 fascists tried to enter the PAME demo bearing the flags of the union earlier in the morning . The fascists were spotted , chased and sought refuge behind riot police lines . Accusing the extreme - right as being behind the deaths , the Coalition of Radical Left has declared in Parliament that the government cannot pretend to be in grief for the loss of life , as it has been attacking human life by all means possible . Meanwhile , extended clashes broke out in Salonika where approximately 50 , 000 people marched destroying dozens of banks and corporate shops in Greece's second largest city . Clashes with the police continued for several hours . According to news broadcasts anarchist have occupied the Labour Center of the city . In Patras , around 20 , 000 protesters were joined by tractor drivers and garbage truck drivers on their vehicles , as flaming barricades were erected along central streets of the city and clashes developed between protestors and the police . In Ioannina the protesters attacked banks and corporate shops leading to extended use of chemicals by the police . In Heraklion , 10 , 000 people are reported as marching against the measures . In Corfu , protesters taking part in the anti - measures march occupied the County Headquarters . Protesters have occupied the Administrative Headquarters of Naxos and the City Hall of Naoussa . As a result of the Athens riots , the police have cordoned off the entire center of the city , erecting check points of entry and exit , while all police work permits have been recalled . At the time of writing battles continue to rage in the inner city , while news broadcasts claim the police is mobilising its forces to storm an anarchist squat in Exarcheia . \n"
     ]
    }
   ],
   "source": [
    "find_len_max(data)"
   ]
  },
  {
   "cell_type": "markdown",
   "metadata": {},
   "source": [
    "## CaTeRS"
   ]
  },
  {
   "cell_type": "code",
   "execution_count": 18,
   "metadata": {
    "pycharm": {
     "name": "#%%\n"
    }
   },
   "outputs": [
    {
     "name": "stdout",
     "output_type": "stream",
     "text": [
      "samples: 203\n"
     ]
    }
   ],
   "source": [
    "data = obj.read_CaTeRS()\n",
    "total_samples += len(data)\n",
    "print(\"samples: \" + str(len(data)))"
   ]
  },
  {
   "cell_type": "code",
   "execution_count": 19,
   "metadata": {
    "pycharm": {
     "name": "#%%\n"
    }
   },
   "outputs": [
    {
     "name": "stdout",
     "output_type": "stream",
     "text": [
      "Deb was visiting family for the holidays. They were at dinner when Deb's job came up. Everyone asked Deb about work, and Deb <@rg2>got</@rg2> nervous. The truth was that she had been <@rg1>unemployed</@rg1> for some time. Finally, she decided to just admit it to her family.\n",
      "unemployed\n",
      "got\n",
      "batch_8.ann\n"
     ]
    }
   ],
   "source": [
    "i = 200\n",
    "print(data.iloc[i]['text'])\n",
    "print(data.iloc[i]['arg1'])\n",
    "print(data.iloc[i]['arg2'])\n",
    "print(data.iloc[i]['ann_file'])"
   ]
  },
  {
   "cell_type": "code",
   "execution_count": 20,
   "metadata": {
    "pycharm": {
     "name": "#%%\n"
    }
   },
   "outputs": [
    {
     "data": {
      "text/html": [
       "<div>\n",
       "<style scoped>\n",
       "    .dataframe tbody tr th:only-of-type {\n",
       "        vertical-align: middle;\n",
       "    }\n",
       "\n",
       "    .dataframe tbody tr th {\n",
       "        vertical-align: top;\n",
       "    }\n",
       "\n",
       "    .dataframe thead th {\n",
       "        text-align: right;\n",
       "    }\n",
       "</style>\n",
       "<table border=\"1\" class=\"dataframe\">\n",
       "  <thead>\n",
       "    <tr style=\"text-align: right;\">\n",
       "      <th></th>\n",
       "      <th>id</th>\n",
       "      <th>arg1</th>\n",
       "      <th>arg2</th>\n",
       "      <th>text</th>\n",
       "      <th>direction</th>\n",
       "      <th>label</th>\n",
       "      <th>source</th>\n",
       "      <th>ann_file</th>\n",
       "      <th>split</th>\n",
       "    </tr>\n",
       "  </thead>\n",
       "  <tbody>\n",
       "    <tr>\n",
       "      <th>0</th>\n",
       "      <td>1</td>\n",
       "      <td>lost</td>\n",
       "      <td>fit</td>\n",
       "      <td>Kay &lt;@rg1&gt;lost&lt;/@rg1&gt; 50 pounds and her clothe...</td>\n",
       "      <td>0</td>\n",
       "      <td>1</td>\n",
       "      <td>6</td>\n",
       "      <td>part_12.ann</td>\n",
       "      <td>1</td>\n",
       "    </tr>\n",
       "    <tr>\n",
       "      <th>1</th>\n",
       "      <td>2</td>\n",
       "      <td>impressed</td>\n",
       "      <td>bought</td>\n",
       "      <td>Kay lost 50 pounds and her clothes no longer f...</td>\n",
       "      <td>0</td>\n",
       "      <td>1</td>\n",
       "      <td>6</td>\n",
       "      <td>part_12.ann</td>\n",
       "      <td>1</td>\n",
       "    </tr>\n",
       "    <tr>\n",
       "      <th>2</th>\n",
       "      <td>3</td>\n",
       "      <td>fit</td>\n",
       "      <td>decided</td>\n",
       "      <td>Kay lost 50 pounds and her clothes no longer &lt;...</td>\n",
       "      <td>0</td>\n",
       "      <td>1</td>\n",
       "      <td>6</td>\n",
       "      <td>part_12.ann</td>\n",
       "      <td>1</td>\n",
       "    </tr>\n",
       "    <tr>\n",
       "      <th>3</th>\n",
       "      <td>4</td>\n",
       "      <td>skied</td>\n",
       "      <td>be</td>\n",
       "      <td>Charles was 10-years-old when his uncle took h...</td>\n",
       "      <td>0</td>\n",
       "      <td>1</td>\n",
       "      <td>6</td>\n",
       "      <td>part_12.ann</td>\n",
       "      <td>1</td>\n",
       "    </tr>\n",
       "    <tr>\n",
       "      <th>4</th>\n",
       "      <td>5</td>\n",
       "      <td>was</td>\n",
       "      <td>cleaning</td>\n",
       "      <td>Marion &lt;@rg1&gt;was&lt;/@rg1&gt; about to move. She was...</td>\n",
       "      <td>0</td>\n",
       "      <td>1</td>\n",
       "      <td>6</td>\n",
       "      <td>part_12.ann</td>\n",
       "      <td>1</td>\n",
       "    </tr>\n",
       "  </tbody>\n",
       "</table>\n",
       "</div>"
      ],
      "text/plain": [
       "   id       arg1      arg2                                               text  \\\n",
       "0   1       lost       fit  Kay <@rg1>lost</@rg1> 50 pounds and her clothe...   \n",
       "1   2  impressed    bought  Kay lost 50 pounds and her clothes no longer f...   \n",
       "2   3        fit   decided  Kay lost 50 pounds and her clothes no longer <...   \n",
       "3   4      skied        be  Charles was 10-years-old when his uncle took h...   \n",
       "4   5        was  cleaning  Marion <@rg1>was</@rg1> about to move. She was...   \n",
       "\n",
       "   direction  label  source     ann_file  split  \n",
       "0          0      1       6  part_12.ann      1  \n",
       "1          0      1       6  part_12.ann      1  \n",
       "2          0      1       6  part_12.ann      1  \n",
       "3          0      1       6  part_12.ann      1  \n",
       "4          0      1       6  part_12.ann      1  "
      ]
     },
     "execution_count": 20,
     "metadata": {},
     "output_type": "execute_result"
    }
   ],
   "source": [
    "data.head()"
   ]
  },
  {
   "cell_type": "code",
   "execution_count": 21,
   "metadata": {
    "pycharm": {
     "name": "#%%\n"
    }
   },
   "outputs": [
    {
     "name": "stdout",
     "output_type": "stream",
     "text": [
      "max length = 348\n",
      "There used to be a candy store down the block from where Joe lived. One day, Joe was walking down the street and saw that it was <@rg1>closed</@rg1>. He asked someone who was walking by why it was closed. Joe didn't go there very often, but it was still <@rg2>upsetting</@rg2>. Now that Joe has kids, he has to drive three miles just to get to one.\n"
     ]
    }
   ],
   "source": [
    "find_len_max(data)"
   ]
  },
  {
   "cell_type": "markdown",
   "metadata": {},
   "source": [
    "## BECAUSE v2.1\n",
    "\n",
    "Since the raw text files for **PTB** and **NYT** need LDC subscription, these file have not been covered in our data reader yet. Once we have access to the raw files from these data resources, we will write the proper data readers for them."
   ]
  },
  {
   "cell_type": "code",
   "execution_count": 22,
   "metadata": {
    "pycharm": {
     "name": "#%%\n"
    }
   },
   "outputs": [
    {
     "name": "stdout",
     "output_type": "stream",
     "text": [
      "samples: 636\n"
     ]
    }
   ],
   "source": [
    "data = obj.read_because()\n",
    "total_samples += len(data)\n",
    "print(\"samples: \" + str(len(data)))"
   ]
  },
  {
   "cell_type": "code",
   "execution_count": 23,
   "metadata": {
    "pycharm": {
     "name": "#%%\n"
    }
   },
   "outputs": [
    {
     "data": {
      "text/html": [
       "<div>\n",
       "<style scoped>\n",
       "    .dataframe tbody tr th:only-of-type {\n",
       "        vertical-align: middle;\n",
       "    }\n",
       "\n",
       "    .dataframe tbody tr th {\n",
       "        vertical-align: top;\n",
       "    }\n",
       "\n",
       "    .dataframe thead th {\n",
       "        text-align: right;\n",
       "    }\n",
       "</style>\n",
       "<table border=\"1\" class=\"dataframe\">\n",
       "  <thead>\n",
       "    <tr style=\"text-align: right;\">\n",
       "      <th></th>\n",
       "      <th>id</th>\n",
       "      <th>arg1</th>\n",
       "      <th>arg2</th>\n",
       "      <th>text</th>\n",
       "      <th>direction</th>\n",
       "      <th>label</th>\n",
       "      <th>source</th>\n",
       "      <th>ann_file</th>\n",
       "      <th>split</th>\n",
       "    </tr>\n",
       "  </thead>\n",
       "  <tbody>\n",
       "    <tr>\n",
       "      <th>0</th>\n",
       "      <td>1</td>\n",
       "      <td>that has arisen</td>\n",
       "      <td>the past few years</td>\n",
       "      <td>We should redesign it to reflect current reali...</td>\n",
       "      <td>0</td>\n",
       "      <td>0</td>\n",
       "      <td>7</td>\n",
       "      <td>CHRG-111shrg61651.ann</td>\n",
       "      <td></td>\n",
       "    </tr>\n",
       "    <tr>\n",
       "      <th>1</th>\n",
       "      <td>2</td>\n",
       "      <td>these banks are too big to fail</td>\n",
       "      <td>they have lower funding costs, they are able t...</td>\n",
       "      <td>This is unfair competition. &lt;S!G&gt;Because&lt;/S!G&gt;...</td>\n",
       "      <td>0</td>\n",
       "      <td>1</td>\n",
       "      <td>7</td>\n",
       "      <td>CHRG-111shrg61651.ann</td>\n",
       "      <td></td>\n",
       "    </tr>\n",
       "    <tr>\n",
       "      <th>2</th>\n",
       "      <td>3</td>\n",
       "      <td>they make more money</td>\n",
       "      <td>the cycle</td>\n",
       "      <td>This is unfair competition. Because these bank...</td>\n",
       "      <td>0</td>\n",
       "      <td>0</td>\n",
       "      <td>7</td>\n",
       "      <td>CHRG-111shrg61651.ann</td>\n",
       "      <td></td>\n",
       "    </tr>\n",
       "    <tr>\n",
       "      <th>3</th>\n",
       "      <td>4</td>\n",
       "      <td>too big</td>\n",
       "      <td>fail</td>\n",
       "      <td>This is unfair competition. Because these bank...</td>\n",
       "      <td>0</td>\n",
       "      <td>1</td>\n",
       "      <td>7</td>\n",
       "      <td>CHRG-111shrg61651.ann</td>\n",
       "      <td></td>\n",
       "    </tr>\n",
       "    <tr>\n",
       "      <th>4</th>\n",
       "      <td>5</td>\n",
       "      <td>you look at the European situation today</td>\n",
       "      <td>it is much worse than what we have in this cou...</td>\n",
       "      <td>And I do not think that we have seen the end o...</td>\n",
       "      <td>0</td>\n",
       "      <td>0</td>\n",
       "      <td>7</td>\n",
       "      <td>CHRG-111shrg61651.ann</td>\n",
       "      <td></td>\n",
       "    </tr>\n",
       "  </tbody>\n",
       "</table>\n",
       "</div>"
      ],
      "text/plain": [
       "   id                                      arg1  \\\n",
       "0   1                           that has arisen   \n",
       "1   2           these banks are too big to fail   \n",
       "2   3                      they make more money   \n",
       "3   4                                   too big   \n",
       "4   5  you look at the European situation today   \n",
       "\n",
       "                                                arg2  \\\n",
       "0                                 the past few years   \n",
       "1  they have lower funding costs, they are able t...   \n",
       "2                                          the cycle   \n",
       "3                                               fail   \n",
       "4  it is much worse than what we have in this cou...   \n",
       "\n",
       "                                                text  direction  label  \\\n",
       "0  We should redesign it to reflect current reali...          0      0   \n",
       "1  This is unfair competition. <S!G>Because</S!G>...          0      1   \n",
       "2  This is unfair competition. Because these bank...          0      0   \n",
       "3  This is unfair competition. Because these bank...          0      1   \n",
       "4  And I do not think that we have seen the end o...          0      0   \n",
       "\n",
       "   source               ann_file split  \n",
       "0       7  CHRG-111shrg61651.ann        \n",
       "1       7  CHRG-111shrg61651.ann        \n",
       "2       7  CHRG-111shrg61651.ann        \n",
       "3       7  CHRG-111shrg61651.ann        \n",
       "4       7  CHRG-111shrg61651.ann        "
      ]
     },
     "execution_count": 23,
     "metadata": {},
     "output_type": "execute_result"
    }
   ],
   "source": [
    "data.head()"
   ]
  },
  {
   "cell_type": "code",
   "execution_count": 24,
   "metadata": {
    "pycharm": {
     "name": "#%%\n"
    }
   },
   "outputs": [
    {
     "name": "stdout",
     "output_type": "stream",
     "text": [
      "max length = 1262\n",
      "Your acceptance of a television and stereo CD player upon payment from David Chang of an amount you understood to be the cost to Mr. Chang, rather than fair market retail value, evidenced poor judgment, displayed a lack of due regard for Senate rules and resulted in a violation of the Senate Gifts Rules (35) and, consequently, a violation of your public disclosure obligations under Senate rules.  2. <@rg1> Your acceptance on loan from Mr. Chang of bronze statues (eagle and bronco buster) for</@rg1> <@rg2> Your acceptance on loan from Mr. Chang of bronze statues (eagle and bronco buster) for</@rg2> <@rg1>display in your Senate office under your office's policy of accepting the loan of home state</@rg1> <@rg2>display in your Senate office under your office's policy of accepting the loan of home state</@rg2> <@rg1>artwork</@rg1> <@rg2> artwork</@rg2> was not consistent with Senate rules governing such loans, evidenced poor judgment, displayed a lack of due regard for the Senate rules and <@rg1>resulted in a violation of the Senate</@rg1> <@rg2>resulted in</@rg2> a violation of the Senate <@rg1>Gifts Rule (35)</@rg1> and, <S!G> consequently</S!G>, <@rg2> a violation of your public disclosure obligations under</@rg2> <@rg2>Senate rules</@rg2>.  3.\n"
     ]
    }
   ],
   "source": [
    "find_len_max(data)"
   ]
  },
  {
   "cell_type": "markdown",
   "metadata": {},
   "source": [
    "## EventStroyLine v1.5"
   ]
  },
  {
   "cell_type": "code",
   "execution_count": 26,
   "metadata": {},
   "outputs": [
    {
     "name": "stdout",
     "output_type": "stream",
     "text": [
      "samples: 2055\n"
     ]
    }
   ],
   "source": [
    "data = obj.read_story_lines_v_1_5()\n",
    "total_samples += len(data)\n",
    "print(\"samples: \" + str(len(data)))"
   ]
  },
  {
   "cell_type": "code",
   "execution_count": 27,
   "metadata": {},
   "outputs": [
    {
     "name": "stdout",
     "output_type": "stream",
     "text": [
      "# causal: 104\n",
      "# non-causal: 1951\n"
     ]
    }
   ],
   "source": [
    "pos = data.loc[data.label == 1]\n",
    "neg = data.loc[data.label == 0]\n",
    "print(\"# causal: \" + str(len(pos)))\n",
    "print(\"# non-causal: \" +str(len(neg)))"
   ]
  },
  {
   "cell_type": "code",
   "execution_count": 28,
   "metadata": {},
   "outputs": [
    {
     "name": "stdout",
     "output_type": "stream",
     "text": [
      "max length = 593\n",
      "One place Lindsay is finding this particularly difficult though is at the Betty Ford Centre , where the actress has just finished 30 days' worth of treatment and has decided that the renowned facilities there won't be enough to keep her around for her court - ordered 90 - day stay in rehab , so she's <@rg1>gone</@rg1> elsewhere .According to a report from TMZ published this week ( June 13 ) , the Mean Girls actress has <@rg2>had enough</@rg2> of the Palm Springs rehab centre and has decided to spend the rest of her court - ordered stay in a rehab centre in Malibu , named the Cliffside .\n"
     ]
    }
   ],
   "source": [
    "find_len_max(data)"
   ]
  },
  {
   "cell_type": "markdown",
   "metadata": {},
   "source": [
    "### Data set statistics"
   ]
  },
  {
   "cell_type": "code",
   "execution_count": 31,
   "metadata": {
    "pycharm": {
     "name": "#%%\n"
    }
   },
   "outputs": [
    {
     "name": "stdout",
     "output_type": "stream",
     "text": [
      "Total samples: 4724\n",
      "----------------------------\n",
      "# Cuasal: 4461\n",
      "# Non-Cuasal: 263\n",
      "----------------------------\n",
      "# train: 1268\n",
      "# dev: 149\n",
      "# test: 822\n",
      "----------------------------\n",
      "# source [1]: 220\n",
      "# source [2]: 1331\n",
      "# source [3]: 485\n",
      "# source [4]: 312\n",
      "# source [5]: 1540\n",
      "# source [6]: 203\n",
      "# source [7]: 633\n"
     ]
    }
   ],
   "source": [
    "import os\n",
    "import pandas as pd\n",
    "\n",
    "data_path = root_path + '/data/causal/gold_causal.csv'\n",
    "if os.path.exists(data_path):\n",
    "    data = pd.read_csv(data_path)\n",
    "else:\n",
    "    data = obj.read_all()\n",
    "    data.to_csv('data/causal/gold_causal.csv')\n",
    "train = data.loc[data.split == 0]\n",
    "dev = data.loc[data.split == 1]\n",
    "test = data.loc[data.split == 2]\n",
    "pos = data.loc[data.label == 1]\n",
    "neg = data.loc[data.label == 0]\n",
    "print(\"Total samples: \" + str(len(data)))\n",
    "print(\"----------------------------\")\n",
    "print(\"# Cuasal: \" + str(len(pos)))\n",
    "print(\"# Non-Cuasal: \" + str(len(neg)))\n",
    "print(\"----------------------------\")\n",
    "print(\"# train: \" + str(len(train)))\n",
    "print(\"# dev: \" + str(len(dev)))\n",
    "print(\"# test: \" + str(len(test)))\n",
    "print(\"----------------------------\")\n",
    "for i in range(7):\n",
    "    print(\"# source [\" + str(i+1) + \"]: \" + str(len(data.loc[data.source == (i+1)])))"
   ]
  },
  {
   "cell_type": "code",
   "execution_count": 32,
   "metadata": {
    "pycharm": {
     "name": "#%%\n"
    }
   },
   "outputs": [
    {
     "name": "stdout",
     "output_type": "stream",
     "text": [
      "# unlabeled samples: 0\n"
     ]
    }
   ],
   "source": [
    "# checking if all samples have labels\n",
    "print(\"# unlabeled samples: \" + str(len(data.loc[(data.label != 0) & (data.label != 1)])))"
   ]
  },
  {
   "cell_type": "code",
   "execution_count": null,
   "metadata": {
    "pycharm": {
     "name": "#%%\n"
    }
   },
   "outputs": [],
   "source": []
  }
 ],
 "metadata": {
  "kernelspec": {
   "display_name": "Python 3",
   "language": "python",
   "name": "python3"
  },
  "language_info": {
   "codemirror_mode": {
    "name": "ipython",
    "version": 3
   },
   "file_extension": ".py",
   "mimetype": "text/x-python",
   "name": "python",
   "nbconvert_exporter": "python",
   "pygments_lexer": "ipython3",
   "version": "3.6.10"
  },
  "pycharm": {
   "stem_cell": {
    "cell_type": "raw",
    "metadata": {
     "collapsed": false
    },
    "source": []
   }
  }
 },
 "nbformat": 4,
 "nbformat_minor": 1
}
