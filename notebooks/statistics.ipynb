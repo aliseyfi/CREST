{
 "cells": [
  {
   "cell_type": "markdown",
   "metadata": {},
   "source": [
    "## CREST Statistics"
   ]
  },
  {
   "cell_type": "code",
   "execution_count": 1,
   "metadata": {},
   "outputs": [],
   "source": [
    "import pandas as pd\n",
    "import numpy as np\n",
    "\n",
    "df = pd.read_excel(\"../data/causal/crest.xlsx\")\n",
    "\n",
    "# check if split is nan, then set the split to train\n",
    "df.loc[np.isnan(df['split']),'split'] = 0\n",
    "\n",
    "# check if there's no more nan split value\n",
    "assert len(df.loc[np.isnan(df['split'])]) == 0"
   ]
  },
  {
   "cell_type": "code",
   "execution_count": 3,
   "metadata": {},
   "outputs": [
    {
     "data": {
      "text/html": [
       "<div>\n",
       "<style scoped>\n",
       "    .dataframe tbody tr th:only-of-type {\n",
       "        vertical-align: middle;\n",
       "    }\n",
       "\n",
       "    .dataframe tbody tr th {\n",
       "        vertical-align: top;\n",
       "    }\n",
       "\n",
       "    .dataframe thead th {\n",
       "        text-align: right;\n",
       "    }\n",
       "</style>\n",
       "<table border=\"1\" class=\"dataframe\">\n",
       "  <thead>\n",
       "    <tr style=\"text-align: right;\">\n",
       "      <th></th>\n",
       "      <th>Unnamed: 0</th>\n",
       "      <th>original_id</th>\n",
       "      <th>span1</th>\n",
       "      <th>span2</th>\n",
       "      <th>signal</th>\n",
       "      <th>context</th>\n",
       "      <th>idx</th>\n",
       "      <th>label</th>\n",
       "      <th>source</th>\n",
       "      <th>ann_file</th>\n",
       "      <th>split</th>\n",
       "    </tr>\n",
       "  </thead>\n",
       "  <tbody>\n",
       "    <tr>\n",
       "      <th>0</th>\n",
       "      <td>0</td>\n",
       "      <td>1</td>\n",
       "      <td>['tumor shrinkage']</td>\n",
       "      <td>['radiation therapy']</td>\n",
       "      <td>[]</td>\n",
       "      <td>The period of tumor shrinkage after radiation ...</td>\n",
       "      <td>{'span1': [[14, 29]], 'span2': [[36, 53]], 'si...</td>\n",
       "      <td>2</td>\n",
       "      <td>1</td>\n",
       "      <td>NaN</td>\n",
       "      <td>0.0</td>\n",
       "    </tr>\n",
       "    <tr>\n",
       "      <th>1</th>\n",
       "      <td>1</td>\n",
       "      <td>2</td>\n",
       "      <td>['Habitat degradation']</td>\n",
       "      <td>['stream channels']</td>\n",
       "      <td>[]</td>\n",
       "      <td>Habitat degradation from within stream channel...</td>\n",
       "      <td>{'span1': [[0, 19]], 'span2': [[32, 47]], 'sig...</td>\n",
       "      <td>0</td>\n",
       "      <td>1</td>\n",
       "      <td>NaN</td>\n",
       "      <td>0.0</td>\n",
       "    </tr>\n",
       "    <tr>\n",
       "      <th>2</th>\n",
       "      <td>2</td>\n",
       "      <td>3</td>\n",
       "      <td>['discomfort']</td>\n",
       "      <td>['traveling']</td>\n",
       "      <td>[]</td>\n",
       "      <td>Earplugs relieve the discomfort from traveling...</td>\n",
       "      <td>{'span1': [[21, 31]], 'span2': [[37, 46]], 'si...</td>\n",
       "      <td>2</td>\n",
       "      <td>1</td>\n",
       "      <td>NaN</td>\n",
       "      <td>0.0</td>\n",
       "    </tr>\n",
       "    <tr>\n",
       "      <th>3</th>\n",
       "      <td>3</td>\n",
       "      <td>4</td>\n",
       "      <td>['daily terror']</td>\n",
       "      <td>['antipersonnel land mines']</td>\n",
       "      <td>[]</td>\n",
       "      <td>We continue to see progress toward a world fre...</td>\n",
       "      <td>{'span1': [[55, 67]], 'span2': [[71, 95]], 'si...</td>\n",
       "      <td>2</td>\n",
       "      <td>1</td>\n",
       "      <td>NaN</td>\n",
       "      <td>0.0</td>\n",
       "    </tr>\n",
       "    <tr>\n",
       "      <th>4</th>\n",
       "      <td>4</td>\n",
       "      <td>5</td>\n",
       "      <td>['segment']</td>\n",
       "      <td>['anecdotes']</td>\n",
       "      <td>[]</td>\n",
       "      <td>The Global Warming segment starts off with two...</td>\n",
       "      <td>{'span1': [[19, 26]], 'span2': [[53, 62]], 'si...</td>\n",
       "      <td>0</td>\n",
       "      <td>1</td>\n",
       "      <td>NaN</td>\n",
       "      <td>0.0</td>\n",
       "    </tr>\n",
       "  </tbody>\n",
       "</table>\n",
       "</div>"
      ],
      "text/plain": [
       "   Unnamed: 0 original_id                    span1  \\\n",
       "0           0           1      ['tumor shrinkage']   \n",
       "1           1           2  ['Habitat degradation']   \n",
       "2           2           3           ['discomfort']   \n",
       "3           3           4         ['daily terror']   \n",
       "4           4           5              ['segment']   \n",
       "\n",
       "                          span2 signal  \\\n",
       "0         ['radiation therapy']     []   \n",
       "1           ['stream channels']     []   \n",
       "2                 ['traveling']     []   \n",
       "3  ['antipersonnel land mines']     []   \n",
       "4                 ['anecdotes']     []   \n",
       "\n",
       "                                             context  \\\n",
       "0  The period of tumor shrinkage after radiation ...   \n",
       "1  Habitat degradation from within stream channel...   \n",
       "2  Earplugs relieve the discomfort from traveling...   \n",
       "3  We continue to see progress toward a world fre...   \n",
       "4  The Global Warming segment starts off with two...   \n",
       "\n",
       "                                                 idx  label  source ann_file  \\\n",
       "0  {'span1': [[14, 29]], 'span2': [[36, 53]], 'si...      2       1      NaN   \n",
       "1  {'span1': [[0, 19]], 'span2': [[32, 47]], 'sig...      0       1      NaN   \n",
       "2  {'span1': [[21, 31]], 'span2': [[37, 46]], 'si...      2       1      NaN   \n",
       "3  {'span1': [[55, 67]], 'span2': [[71, 95]], 'si...      2       1      NaN   \n",
       "4  {'span1': [[19, 26]], 'span2': [[53, 62]], 'si...      0       1      NaN   \n",
       "\n",
       "   split  \n",
       "0    0.0  \n",
       "1    0.0  \n",
       "2    0.0  \n",
       "3    0.0  \n",
       "4    0.0  "
      ]
     },
     "execution_count": 3,
     "metadata": {},
     "output_type": "execute_result"
    }
   ],
   "source": [
    "df.head()"
   ]
  },
  {
   "cell_type": "code",
   "execution_count": 2,
   "metadata": {},
   "outputs": [
    {
     "name": "stdout",
     "output_type": "stream",
     "text": [
      "train: 13622, dev: 1586, test: 4371\n"
     ]
    }
   ],
   "source": [
    "print('train: {}, dev: {}, test: {}'.format(len(df.loc[df['split'] == 0]), len(df.loc[df['split'] == 1]), len(df.loc[df['split'] == 2])))"
   ]
  },
  {
   "cell_type": "markdown",
   "metadata": {},
   "source": [
    "## Average Span Length\n",
    "We want to see what find the average number of tokens in the span arguments of a causal relation in CREST."
   ]
  },
  {
   "cell_type": "code",
   "execution_count": 20,
   "metadata": {},
   "outputs": [
    {
     "name": "stdout",
     "output_type": "stream",
     "text": [
      "source 1: 1.3068181818181819\n",
      "source 2: 1.0458150601847531\n",
      "source 3: 1.0\n",
      "source 4: 1.001572327044025\n",
      "source 5: 1.16545245398773\n",
      "source 6: 1.1015187849720225\n",
      "source 7: 8.927641099855283\n",
      "source 8: 5.6195\n"
     ]
    }
   ],
   "source": [
    "import ast\n",
    "\n",
    "sources = [1, 2, 3, 4, 5, 6, 7, 8]\n",
    "for source in sources:\n",
    "    df_source = df.loc[df['source'] == source]\n",
    "    sum_length = 0\n",
    "    n_count = 0\n",
    "    for index, row in df_source.iterrows():\n",
    "        span1 = ' '.join(ast.literal_eval(row['span1']))\n",
    "        span2 = ' '.join(ast.literal_eval(row['span2']))\n",
    "        if span1.strip() != \"\":\n",
    "            sum_length += len(span1.strip().split(' '))\n",
    "            n_count += 1\n",
    "        if span2.strip() != \"\":\n",
    "            sum_length += len(span2.strip().split(' '))\n",
    "            n_count += 1\n",
    "    try:\n",
    "        print(\"source {}: {}\".format(source, sum_length / n_count))\n",
    "    except:\n",
    "        pass"
   ]
  },
  {
   "cell_type": "code",
   "execution_count": 3,
   "metadata": {},
   "outputs": [],
   "source": [
    "test_df = df.loc[df['split'] == 2]\n",
    "dev_df = df.drop(test_df.index)\n",
    "source_groups = dev_df.groupby(dev_df[\"source\"]).size().reset_index(name='count')\n",
    "label_groups = dev_df.groupby(dev_df[\"label\"]).size().reset_index(name='count')"
   ]
  },
  {
   "cell_type": "code",
   "execution_count": 4,
   "metadata": {},
   "outputs": [
    {
     "data": {
      "text/html": [
       "<div>\n",
       "<style scoped>\n",
       "    .dataframe tbody tr th:only-of-type {\n",
       "        vertical-align: middle;\n",
       "    }\n",
       "\n",
       "    .dataframe tbody tr th {\n",
       "        vertical-align: top;\n",
       "    }\n",
       "\n",
       "    .dataframe thead th {\n",
       "        text-align: right;\n",
       "    }\n",
       "</style>\n",
       "<table border=\"1\" class=\"dataframe\">\n",
       "  <thead>\n",
       "    <tr style=\"text-align: right;\">\n",
       "      <th></th>\n",
       "      <th>source</th>\n",
       "      <th>count</th>\n",
       "    </tr>\n",
       "  </thead>\n",
       "  <tbody>\n",
       "    <tr>\n",
       "      <th>0</th>\n",
       "      <td>1</td>\n",
       "      <td>140</td>\n",
       "    </tr>\n",
       "    <tr>\n",
       "      <th>1</th>\n",
       "      <td>2</td>\n",
       "      <td>8000</td>\n",
       "    </tr>\n",
       "    <tr>\n",
       "      <th>2</th>\n",
       "      <td>3</td>\n",
       "      <td>71</td>\n",
       "    </tr>\n",
       "    <tr>\n",
       "      <th>3</th>\n",
       "      <td>4</td>\n",
       "      <td>318</td>\n",
       "    </tr>\n",
       "    <tr>\n",
       "      <th>4</th>\n",
       "      <td>5</td>\n",
       "      <td>2608</td>\n",
       "    </tr>\n",
       "    <tr>\n",
       "      <th>5</th>\n",
       "      <td>6</td>\n",
       "      <td>2342</td>\n",
       "    </tr>\n",
       "    <tr>\n",
       "      <th>6</th>\n",
       "      <td>7</td>\n",
       "      <td>729</td>\n",
       "    </tr>\n",
       "    <tr>\n",
       "      <th>7</th>\n",
       "      <td>8</td>\n",
       "      <td>1000</td>\n",
       "    </tr>\n",
       "  </tbody>\n",
       "</table>\n",
       "</div>"
      ],
      "text/plain": [
       "   source  count\n",
       "0       1    140\n",
       "1       2   8000\n",
       "2       3     71\n",
       "3       4    318\n",
       "4       5   2608\n",
       "5       6   2342\n",
       "6       7    729\n",
       "7       8   1000"
      ]
     },
     "execution_count": 4,
     "metadata": {},
     "output_type": "execute_result"
    }
   ],
   "source": [
    "source_groups"
   ]
  },
  {
   "cell_type": "code",
   "execution_count": 5,
   "metadata": {},
   "outputs": [
    {
     "data": {
      "text/html": [
       "<div>\n",
       "<style scoped>\n",
       "    .dataframe tbody tr th:only-of-type {\n",
       "        vertical-align: middle;\n",
       "    }\n",
       "\n",
       "    .dataframe tbody tr th {\n",
       "        vertical-align: top;\n",
       "    }\n",
       "\n",
       "    .dataframe thead th {\n",
       "        text-align: right;\n",
       "    }\n",
       "</style>\n",
       "<table border=\"1\" class=\"dataframe\">\n",
       "  <thead>\n",
       "    <tr style=\"text-align: right;\">\n",
       "      <th></th>\n",
       "      <th>label</th>\n",
       "      <th>count</th>\n",
       "    </tr>\n",
       "  </thead>\n",
       "  <tbody>\n",
       "    <tr>\n",
       "      <th>0</th>\n",
       "      <td>0</td>\n",
       "      <td>9852</td>\n",
       "    </tr>\n",
       "    <tr>\n",
       "      <th>1</th>\n",
       "      <td>1</td>\n",
       "      <td>2695</td>\n",
       "    </tr>\n",
       "    <tr>\n",
       "      <th>2</th>\n",
       "      <td>2</td>\n",
       "      <td>2661</td>\n",
       "    </tr>\n",
       "  </tbody>\n",
       "</table>\n",
       "</div>"
      ],
      "text/plain": [
       "   label  count\n",
       "0      0   9852\n",
       "1      1   2695\n",
       "2      2   2661"
      ]
     },
     "execution_count": 5,
     "metadata": {},
     "output_type": "execute_result"
    }
   ],
   "source": [
    "label_groups"
   ]
  },
  {
   "cell_type": "code",
   "execution_count": null,
   "metadata": {},
   "outputs": [],
   "source": []
  }
 ],
 "metadata": {
  "kernelspec": {
   "display_name": "Python [conda env:crest-env] *",
   "language": "python",
   "name": "conda-env-crest-env-py"
  },
  "language_info": {
   "codemirror_mode": {
    "name": "ipython",
    "version": 3
   },
   "file_extension": ".py",
   "mimetype": "text/x-python",
   "name": "python",
   "nbconvert_exporter": "python",
   "pygments_lexer": "ipython3",
   "version": "3.6.10"
  }
 },
 "nbformat": 4,
 "nbformat_minor": 4
}
