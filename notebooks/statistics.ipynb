{
 "cells": [
  {
   "cell_type": "markdown",
   "metadata": {},
   "source": [
    "## CREST Statistics"
   ]
  },
  {
   "cell_type": "code",
   "execution_count": 1,
   "metadata": {},
   "outputs": [],
   "source": [
    "import pandas as pd\n",
    "import numpy as np\n",
    "\n",
    "df = pd.read_excel(\"../data/causal/crest.xlsx\")\n",
    "\n",
    "# check if split is nan, then set the split to train\n",
    "df.loc[np.isnan(df['split']),'split'] = 0\n",
    "\n",
    "# check if there's no more nan split value\n",
    "assert len(df.loc[np.isnan(df['split'])]) == 0"
   ]
  },
  {
   "cell_type": "code",
   "execution_count": 2,
   "metadata": {},
   "outputs": [
    {
     "data": {
      "text/html": [
       "<div>\n",
       "<style scoped>\n",
       "    .dataframe tbody tr th:only-of-type {\n",
       "        vertical-align: middle;\n",
       "    }\n",
       "\n",
       "    .dataframe tbody tr th {\n",
       "        vertical-align: top;\n",
       "    }\n",
       "\n",
       "    .dataframe thead th {\n",
       "        text-align: right;\n",
       "    }\n",
       "</style>\n",
       "<table border=\"1\" class=\"dataframe\">\n",
       "  <thead>\n",
       "    <tr style=\"text-align: right;\">\n",
       "      <th></th>\n",
       "      <th>Unnamed: 0</th>\n",
       "      <th>original_id</th>\n",
       "      <th>span1</th>\n",
       "      <th>span2</th>\n",
       "      <th>signal</th>\n",
       "      <th>context</th>\n",
       "      <th>idx</th>\n",
       "      <th>label</th>\n",
       "      <th>source</th>\n",
       "      <th>ann_file</th>\n",
       "      <th>split</th>\n",
       "    </tr>\n",
       "  </thead>\n",
       "  <tbody>\n",
       "    <tr>\n",
       "      <th>16850</th>\n",
       "      <td>16850</td>\n",
       "      <td>E1</td>\n",
       "      <td>['that has arisen']</td>\n",
       "      <td>['the past few years']</td>\n",
       "      <td>['over']</td>\n",
       "      <td>And second, we should address the issue that h...</td>\n",
       "      <td>{'span1': [[40, 55]], 'span2': [[76, 94]], 'si...</td>\n",
       "      <td>0</td>\n",
       "      <td>7</td>\n",
       "      <td>CHRG-111shrg61651.ann</td>\n",
       "      <td>0.0</td>\n",
       "    </tr>\n",
       "    <tr>\n",
       "      <th>16851</th>\n",
       "      <td>16851</td>\n",
       "      <td>E4</td>\n",
       "      <td>['these banks are too big to fail']</td>\n",
       "      <td>['they have lower funding costs, they are able...</td>\n",
       "      <td>['Because']</td>\n",
       "      <td>Because these banks are too big to fail, they ...</td>\n",
       "      <td>{'span1': [[8, 39]], 'span2': [[41, 179]], 'si...</td>\n",
       "      <td>1</td>\n",
       "      <td>7</td>\n",
       "      <td>CHRG-111shrg61651.ann</td>\n",
       "      <td>0.0</td>\n",
       "    </tr>\n",
       "    <tr>\n",
       "      <th>16852</th>\n",
       "      <td>16852</td>\n",
       "      <td>E5</td>\n",
       "      <td>['they make more money']</td>\n",
       "      <td>['the cycle']</td>\n",
       "      <td>['over']</td>\n",
       "      <td>Because these banks are too big to fail, they ...</td>\n",
       "      <td>{'span1': [[111, 131]], 'span2': [[137, 146]],...</td>\n",
       "      <td>0</td>\n",
       "      <td>7</td>\n",
       "      <td>CHRG-111shrg61651.ann</td>\n",
       "      <td>0.0</td>\n",
       "    </tr>\n",
       "    <tr>\n",
       "      <th>16853</th>\n",
       "      <td>16853</td>\n",
       "      <td>E6</td>\n",
       "      <td>['too big']</td>\n",
       "      <td>['fail']</td>\n",
       "      <td>['too', 'to']</td>\n",
       "      <td>Because these banks are too big to fail, they ...</td>\n",
       "      <td>{'span1': [[24, 31]], 'span2': [[35, 39]], 'si...</td>\n",
       "      <td>1</td>\n",
       "      <td>7</td>\n",
       "      <td>CHRG-111shrg61651.ann</td>\n",
       "      <td>0.0</td>\n",
       "    </tr>\n",
       "    <tr>\n",
       "      <th>16854</th>\n",
       "      <td>16854</td>\n",
       "      <td>E7</td>\n",
       "      <td>['you look at the European situation today']</td>\n",
       "      <td>['it is much worse than what we have in this c...</td>\n",
       "      <td>['If']</td>\n",
       "      <td>If you look at the European situation today, f...</td>\n",
       "      <td>{'span1': [[3, 43]], 'span2': [[58, 153]], 'si...</td>\n",
       "      <td>0</td>\n",
       "      <td>7</td>\n",
       "      <td>CHRG-111shrg61651.ann</td>\n",
       "      <td>0.0</td>\n",
       "    </tr>\n",
       "  </tbody>\n",
       "</table>\n",
       "</div>"
      ],
      "text/plain": [
       "       Unnamed: 0 original_id                                         span1  \\\n",
       "16850       16850          E1                           ['that has arisen']   \n",
       "16851       16851          E4           ['these banks are too big to fail']   \n",
       "16852       16852          E5                      ['they make more money']   \n",
       "16853       16853          E6                                   ['too big']   \n",
       "16854       16854          E7  ['you look at the European situation today']   \n",
       "\n",
       "                                                   span2         signal  \\\n",
       "16850                             ['the past few years']       ['over']   \n",
       "16851  ['they have lower funding costs, they are able...    ['Because']   \n",
       "16852                                      ['the cycle']       ['over']   \n",
       "16853                                           ['fail']  ['too', 'to']   \n",
       "16854  ['it is much worse than what we have in this c...         ['If']   \n",
       "\n",
       "                                                 context  \\\n",
       "16850  And second, we should address the issue that h...   \n",
       "16851  Because these banks are too big to fail, they ...   \n",
       "16852  Because these banks are too big to fail, they ...   \n",
       "16853  Because these banks are too big to fail, they ...   \n",
       "16854  If you look at the European situation today, f...   \n",
       "\n",
       "                                                     idx  label  source  \\\n",
       "16850  {'span1': [[40, 55]], 'span2': [[76, 94]], 'si...      0       7   \n",
       "16851  {'span1': [[8, 39]], 'span2': [[41, 179]], 'si...      1       7   \n",
       "16852  {'span1': [[111, 131]], 'span2': [[137, 146]],...      0       7   \n",
       "16853  {'span1': [[24, 31]], 'span2': [[35, 39]], 'si...      1       7   \n",
       "16854  {'span1': [[3, 43]], 'span2': [[58, 153]], 'si...      0       7   \n",
       "\n",
       "                    ann_file  split  \n",
       "16850  CHRG-111shrg61651.ann    0.0  \n",
       "16851  CHRG-111shrg61651.ann    0.0  \n",
       "16852  CHRG-111shrg61651.ann    0.0  \n",
       "16853  CHRG-111shrg61651.ann    0.0  \n",
       "16854  CHRG-111shrg61651.ann    0.0  "
      ]
     },
     "execution_count": 2,
     "metadata": {},
     "output_type": "execute_result"
    }
   ],
   "source": [
    "df[df['source'].isin([7])].head()"
   ]
  },
  {
   "cell_type": "code",
   "execution_count": 3,
   "metadata": {},
   "outputs": [
    {
     "name": "stdout",
     "output_type": "stream",
     "text": [
      "train: 13622, dev: 1586, test: 4371\n"
     ]
    }
   ],
   "source": [
    "print('train: {}, dev: {}, test: {}'.format(len(df.loc[df['split'] == 0]), len(df.loc[df['split'] == 1]), len(df.loc[df['split'] == 2])))"
   ]
  },
  {
   "cell_type": "markdown",
   "metadata": {},
   "source": [
    "## Span Length\n",
    "We want to see what find the average number of tokens in the span arguments of a causal relation in CREST."
   ]
  },
  {
   "cell_type": "code",
   "execution_count": 5,
   "metadata": {},
   "outputs": [
    {
     "name": "stdout",
     "output_type": "stream",
     "text": [
      "source 1: 1.3068181818181819\n",
      "source 2: 1.0458150601847531\n",
      "source 3: 1.0\n",
      "source 4: 1.001572327044025\n",
      "source 5: 1.16545245398773\n",
      "source 6: 1.1015187849720225\n",
      "source 7: 8.568587105624143\n"
     ]
    }
   ],
   "source": [
    "import ast\n",
    "\n",
    "sources = [1, 2, 3, 4, 5, 6, 7]\n",
    "\n",
    "span_length = {}\n",
    "\n",
    "for source in sources:\n",
    "    df_source = df[df['source'].isin([source])]\n",
    "    sum_length = 0\n",
    "    n_count = 0\n",
    "    for index, row in df_source.iterrows():\n",
    "        span1 = ' '.join(ast.literal_eval(row['span1']))\n",
    "        span2 = ' '.join(ast.literal_eval(row['span2']))\n",
    "        \n",
    "        if span1.strip() != \"\" and span2.strip() != \"\":\n",
    "            len_span = len(span1.strip().split(' '))\n",
    "            len_span += len(span2.strip().split(' '))\n",
    "        \n",
    "        if len_span in span_length:\n",
    "            span_length[len_span] += 1\n",
    "        else:\n",
    "            span_length[len_span] = 1\n",
    "        \n",
    "        sum_length += len_span\n",
    "        n_count += 2\n",
    "    \n",
    "    assert n_count == len(df_source) * 2\n",
    "    try:\n",
    "        print(\"source {}: {}\".format(source, sum_length / n_count))\n",
    "    except:\n",
    "        pass"
   ]
  },
  {
   "cell_type": "code",
   "execution_count": 9,
   "metadata": {},
   "outputs": [],
   "source": [
    "span_length = dict(sorted(span_length.items()))"
   ]
  },
  {
   "cell_type": "code",
   "execution_count": 10,
   "metadata": {},
   "outputs": [
    {
     "data": {
      "text/plain": [
       "{1: 14911, 2: 2668}"
      ]
     },
     "execution_count": 10,
     "metadata": {},
     "output_type": "execute_result"
    }
   ],
   "source": [
    "vals = {1: span_length[2], 2: 0}\n",
    "for key, value in span_length.items():\n",
    "    if key > 2:\n",
    "        vals[2] += value\n",
    "vals"
   ]
  },
  {
   "cell_type": "code",
   "execution_count": 3,
   "metadata": {},
   "outputs": [],
   "source": [
    "test_df = df.loc[df['split'] == 2]\n",
    "dev_df = df.drop(test_df.index)\n",
    "source_groups = dev_df.groupby(dev_df[\"source\"]).size().reset_index(name='count')\n",
    "label_groups = dev_df.groupby(dev_df[\"label\"]).size().reset_index(name='count')"
   ]
  },
  {
   "cell_type": "code",
   "execution_count": 4,
   "metadata": {},
   "outputs": [
    {
     "data": {
      "text/html": [
       "<div>\n",
       "<style scoped>\n",
       "    .dataframe tbody tr th:only-of-type {\n",
       "        vertical-align: middle;\n",
       "    }\n",
       "\n",
       "    .dataframe tbody tr th {\n",
       "        vertical-align: top;\n",
       "    }\n",
       "\n",
       "    .dataframe thead th {\n",
       "        text-align: right;\n",
       "    }\n",
       "</style>\n",
       "<table border=\"1\" class=\"dataframe\">\n",
       "  <thead>\n",
       "    <tr style=\"text-align: right;\">\n",
       "      <th></th>\n",
       "      <th>source</th>\n",
       "      <th>count</th>\n",
       "    </tr>\n",
       "  </thead>\n",
       "  <tbody>\n",
       "    <tr>\n",
       "      <th>0</th>\n",
       "      <td>1</td>\n",
       "      <td>140</td>\n",
       "    </tr>\n",
       "    <tr>\n",
       "      <th>1</th>\n",
       "      <td>2</td>\n",
       "      <td>8000</td>\n",
       "    </tr>\n",
       "    <tr>\n",
       "      <th>2</th>\n",
       "      <td>3</td>\n",
       "      <td>71</td>\n",
       "    </tr>\n",
       "    <tr>\n",
       "      <th>3</th>\n",
       "      <td>4</td>\n",
       "      <td>318</td>\n",
       "    </tr>\n",
       "    <tr>\n",
       "      <th>4</th>\n",
       "      <td>5</td>\n",
       "      <td>2608</td>\n",
       "    </tr>\n",
       "    <tr>\n",
       "      <th>5</th>\n",
       "      <td>6</td>\n",
       "      <td>2342</td>\n",
       "    </tr>\n",
       "    <tr>\n",
       "      <th>6</th>\n",
       "      <td>7</td>\n",
       "      <td>729</td>\n",
       "    </tr>\n",
       "    <tr>\n",
       "      <th>7</th>\n",
       "      <td>8</td>\n",
       "      <td>1000</td>\n",
       "    </tr>\n",
       "  </tbody>\n",
       "</table>\n",
       "</div>"
      ],
      "text/plain": [
       "   source  count\n",
       "0       1    140\n",
       "1       2   8000\n",
       "2       3     71\n",
       "3       4    318\n",
       "4       5   2608\n",
       "5       6   2342\n",
       "6       7    729\n",
       "7       8   1000"
      ]
     },
     "execution_count": 4,
     "metadata": {},
     "output_type": "execute_result"
    }
   ],
   "source": [
    "source_groups"
   ]
  },
  {
   "cell_type": "code",
   "execution_count": 5,
   "metadata": {},
   "outputs": [
    {
     "data": {
      "text/html": [
       "<div>\n",
       "<style scoped>\n",
       "    .dataframe tbody tr th:only-of-type {\n",
       "        vertical-align: middle;\n",
       "    }\n",
       "\n",
       "    .dataframe tbody tr th {\n",
       "        vertical-align: top;\n",
       "    }\n",
       "\n",
       "    .dataframe thead th {\n",
       "        text-align: right;\n",
       "    }\n",
       "</style>\n",
       "<table border=\"1\" class=\"dataframe\">\n",
       "  <thead>\n",
       "    <tr style=\"text-align: right;\">\n",
       "      <th></th>\n",
       "      <th>label</th>\n",
       "      <th>count</th>\n",
       "    </tr>\n",
       "  </thead>\n",
       "  <tbody>\n",
       "    <tr>\n",
       "      <th>0</th>\n",
       "      <td>0</td>\n",
       "      <td>9852</td>\n",
       "    </tr>\n",
       "    <tr>\n",
       "      <th>1</th>\n",
       "      <td>1</td>\n",
       "      <td>2695</td>\n",
       "    </tr>\n",
       "    <tr>\n",
       "      <th>2</th>\n",
       "      <td>2</td>\n",
       "      <td>2661</td>\n",
       "    </tr>\n",
       "  </tbody>\n",
       "</table>\n",
       "</div>"
      ],
      "text/plain": [
       "   label  count\n",
       "0      0   9852\n",
       "1      1   2695\n",
       "2      2   2661"
      ]
     },
     "execution_count": 5,
     "metadata": {},
     "output_type": "execute_result"
    }
   ],
   "source": [
    "label_groups"
   ]
  },
  {
   "cell_type": "code",
   "execution_count": null,
   "metadata": {},
   "outputs": [],
   "source": []
  }
 ],
 "metadata": {
  "kernelspec": {
   "display_name": "Python [conda env:crest-env] *",
   "language": "python",
   "name": "conda-env-crest-env-py"
  },
  "language_info": {
   "codemirror_mode": {
    "name": "ipython",
    "version": 3
   },
   "file_extension": ".py",
   "mimetype": "text/x-python",
   "name": "python",
   "nbconvert_exporter": "python",
   "pygments_lexer": "ipython3",
   "version": "3.6.10"
  }
 },
 "nbformat": 4,
 "nbformat_minor": 4
}
