{
 "cells": [
  {
   "cell_type": "markdown",
   "source": [
    "## Reading Causal Relations Corpora\n",
    "By: Pedram Hosseini (pdr.hosseini@gmail.com)\n",
    "\n",
    "There have been efforts in creating various causal relation corpora with different level of granularity based on multiple annotation schemes. These efforts, even though admirable, are fairly sparse which makes it hard for people in the NLP community to use the generated knowledge by these resources. To take a step to alleviate this problem to some degree and to make it easier for people to benefit from these data sets with reach source of human annotation, we wrote methods in a **CausalDataReader** class to convert all of these resources into a simple and friendly format so that anyone can easily use these samples.\n",
    "We try to keep most of the annotations from the original sources in the new schema so that no information will be lost during the data conversion. In the following, there is a list of current data sets which are covered in our collection:\n",
    "\n",
    "- **SemEval 2007 task 4** - Public (source: **1**)\n",
    "- **SemEval 2010 task 8** - Public (source: **2**)\n",
    "- **EventCausality data set** - Public (source: **3**)\n",
    "- **Causal-TimeBank** - Not public (source: **4**)\n",
    "- **Crowdsourcing-StoryLines 1.2** - Public (source: **5**)\n",
    "- **CaTeRS** - Public (source: **6**)\n",
    "- **BECAUSE v2.1** Public (source: **7**)\n",
    "- **Your data set?**\n",
    "\n",
    "#### JOIN US\n",
    "We invite everyone in the ML/NLP/NLU community and groups of researchers who work on causal relations extraction in language to contribute to this repository, **data_reader.py** in particular, so that we all take a step forward in improving the quality of availbale data resources and alleviate the sparsness issue."
   ],
   "metadata": {
    "collapsed": false
   }
  },
  {
   "cell_type": "code",
   "execution_count": null,
   "outputs": [],
   "source": [
    "import data_reader as dr\n",
    "obj = dr.CausalDataReader()\n",
    "total_samples = 0"
   ],
   "metadata": {
    "collapsed": false,
    "pycharm": {
     "name": "#%%\n"
    }
   }
  },
  {
   "cell_type": "markdown",
   "source": [
    "## SemEval 2010 task 8"
   ],
   "metadata": {
    "collapsed": false
   }
  },
  {
   "cell_type": "code",
   "execution_count": null,
   "outputs": [],
   "source": [
    "data = obj.read_semeval_2010_8()\n",
    "total_samples += len(data)\n",
    "print(\"samples: \" + str(len(data)))"
   ],
   "metadata": {
    "collapsed": false,
    "pycharm": {
     "name": "#%%\n"
    }
   }
  },
  {
   "cell_type": "code",
   "execution_count": null,
   "outputs": [],
   "source": [
    "data.head()"
   ],
   "metadata": {
    "collapsed": false,
    "pycharm": {
     "name": "#%%\n"
    }
   }
  },
  {
   "cell_type": "code",
   "execution_count": null,
   "outputs": [],
   "source": [
    "len_max = 0\n",
    "i_max = -1\n",
    "for index, row in data.iterrows():\n",
    "    if len(row.text) > len_max:\n",
    "        len_max = len(row.text)\n",
    "        i_max = index\n",
    "print(\"max length = \" + str(len_max))\n",
    "print(data.iloc[i_max].text)"
   ],
   "metadata": {
    "collapsed": false,
    "pycharm": {
     "name": "#%%\n"
    }
   }
  },
  {
   "cell_type": "markdown",
   "source": [
    "## SemEval 2007 task 4 "
   ],
   "metadata": {
    "collapsed": false
   }
  },
  {
   "cell_type": "code",
   "execution_count": null,
   "outputs": [],
   "source": [
    "data = obj.read_semeval_2007_4()\n",
    "total_samples += len(data)\n",
    "print(\"samples: \" + str(len(data)))"
   ],
   "metadata": {
    "collapsed": false,
    "pycharm": {
     "name": "#%%\n"
    }
   }
  },
  {
   "cell_type": "code",
   "execution_count": null,
   "outputs": [],
   "source": [
    "data.head()"
   ],
   "metadata": {
    "collapsed": false,
    "pycharm": {
     "name": "#%%\n"
    }
   }
  },
  {
   "cell_type": "code",
   "execution_count": null,
   "outputs": [],
   "source": [
    "len_max = 0\n",
    "i_max = -1\n",
    "for index, row in data.iterrows():\n",
    "    if len(row.text) > len_max:\n",
    "        len_max = len(row.text)\n",
    "        i_max = index\n",
    "print(\"max length = \" + str(len_max))\n",
    "print(data.iloc[i_max].text)"
   ],
   "metadata": {
    "collapsed": false,
    "pycharm": {
     "name": "#%%\n"
    }
   }
  },
  {
   "cell_type": "markdown",
   "source": [
    "## EventCausality data set"
   ],
   "metadata": {
    "collapsed": false
   }
  },
  {
   "cell_type": "code",
   "execution_count": null,
   "outputs": [],
   "source": [
    "data = obj.read_event_causality()\n",
    "total_samples += len(data)\n",
    "print(\"samples: \" + str(len(data)))"
   ],
   "metadata": {
    "collapsed": false,
    "pycharm": {
     "name": "#%%\n"
    }
   }
  },
  {
   "cell_type": "code",
   "execution_count": null,
   "outputs": [],
   "source": [
    "data.head()"
   ],
   "metadata": {
    "collapsed": false,
    "pycharm": {
     "name": "#%%\n"
    }
   }
  },
  {
   "cell_type": "code",
   "execution_count": null,
   "outputs": [],
   "source": [
    "len_max = 0\n",
    "i_max = -1\n",
    "for index, row in data.iterrows():\n",
    "    if len(row.text) > len_max:\n",
    "        len_max = len(row.text)\n",
    "        i_max = index\n",
    "print(\"max length = \" + str(len_max))\n",
    "print(data.iloc[i_max].text)"
   ],
   "metadata": {
    "collapsed": false,
    "pycharm": {
     "name": "#%%\n"
    }
   }
  },
  {
   "cell_type": "markdown",
   "source": [
    "## Causal-TimeBank"
   ],
   "metadata": {
    "collapsed": false
   }
  },
  {
   "cell_type": "code",
   "execution_count": null,
   "outputs": [],
   "source": [
    "data = obj.read_causal_timebank()\n",
    "total_samples += len(data)\n",
    "print(\"samples: \" + str(len(data)))"
   ],
   "metadata": {
    "collapsed": false,
    "pycharm": {
     "name": "#%%\n"
    }
   }
  },
  {
   "cell_type": "code",
   "execution_count": null,
   "outputs": [],
   "source": [
    "data.head()"
   ],
   "metadata": {
    "collapsed": false,
    "pycharm": {
     "name": "#%%\n"
    }
   }
  },
  {
   "cell_type": "code",
   "execution_count": null,
   "outputs": [],
   "source": [
    "len_max = 0\n",
    "i_max = -1\n",
    "for index, row in data.iterrows():\n",
    "    if len(row.text) > len_max:\n",
    "        len_max = len(row.text)\n",
    "        i_max = index\n",
    "print(\"max length = \" + str(len_max))\n",
    "print(data.iloc[i_max].text)"
   ],
   "metadata": {
    "collapsed": false,
    "pycharm": {
     "name": "#%%\n"
    }
   }
  },
  {
   "cell_type": "markdown",
   "source": [
    "## Crowdsourcing-StoryLines"
   ],
   "metadata": {
    "collapsed": false
   }
  },
  {
   "cell_type": "code",
   "execution_count": null,
   "outputs": [],
   "source": [
    "data = obj.read_story_lines()\n",
    "total_samples += len(data)\n",
    "print(\"samples: \" + str(len(data)))"
   ],
   "metadata": {
    "collapsed": false,
    "pycharm": {
     "name": "#%%\n"
    }
   }
  },
  {
   "cell_type": "code",
   "execution_count": null,
   "outputs": [],
   "source": [
    "data.head()"
   ],
   "metadata": {
    "collapsed": false,
    "pycharm": {
     "name": "#%%\n"
    }
   }
  },
  {
   "cell_type": "code",
   "execution_count": null,
   "outputs": [],
   "source": [
    "len_max = 0\n",
    "i_max = -1\n",
    "for index, row in data.iterrows():\n",
    "    if len(row.text) > len_max:\n",
    "        len_max = len(row.text)\n",
    "        i_max = index\n",
    "print(len_max)\n",
    "print(data.iloc[i_max].text)"
   ],
   "metadata": {
    "collapsed": false,
    "pycharm": {
     "name": "#%%\n"
    }
   }
  },
  {
   "cell_type": "markdown",
   "source": [
    "## CaTeRS"
   ],
   "metadata": {
    "collapsed": false
   }
  },
  {
   "cell_type": "code",
   "execution_count": null,
   "outputs": [],
   "source": [
    "data = obj.read_CaTeRS()\n",
    "total_samples += len(data)\n",
    "print(\"samples: \" + str(len(data)))"
   ],
   "metadata": {
    "collapsed": false,
    "pycharm": {
     "name": "#%%\n"
    }
   }
  },
  {
   "cell_type": "code",
   "execution_count": null,
   "outputs": [],
   "source": [
    "i = 200\n",
    "print(data.iloc[i]['text'])\n",
    "print(data.iloc[i]['arg1'])\n",
    "print(data.iloc[i]['arg2'])\n",
    "print(data.iloc[i]['ann_file'])"
   ],
   "metadata": {
    "collapsed": false,
    "pycharm": {
     "name": "#%%\n"
    }
   }
  },
  {
   "cell_type": "code",
   "execution_count": null,
   "outputs": [],
   "source": [
    "data.head()"
   ],
   "metadata": {
    "collapsed": false,
    "pycharm": {
     "name": "#%%\n"
    }
   }
  },
  {
   "cell_type": "code",
   "execution_count": null,
   "outputs": [],
   "source": [
    "len_max = 0\n",
    "i_max = -1\n",
    "for index, row in data.iterrows():\n",
    "    if len(row.text) > len_max:\n",
    "        len_max = len(row.text)\n",
    "        i_max = index\n",
    "print(\"max length = \" + str(len_max))\n",
    "print(data.iloc[i_max].text)"
   ],
   "metadata": {
    "collapsed": false,
    "pycharm": {
     "name": "#%%\n"
    }
   }
  },
  {
   "cell_type": "markdown",
   "source": [
    "## BECAUSE v2.1\n",
    "\n",
    "Since the raw text files for **PTB** and **NYT** need LDC subscription, these file have not been covered in our data reader yet. Once we have access to the raw files from these data resources, we will write the proper data readers for them."
   ],
   "metadata": {
    "collapsed": false
   }
  },
  {
   "cell_type": "code",
   "execution_count": null,
   "outputs": [],
   "source": [
    "data = obj.read_because()\n",
    "total_samples += len(data)\n",
    "print(\"samples: \" + str(len(data)))"
   ],
   "metadata": {
    "collapsed": false,
    "pycharm": {
     "name": "#%%\n"
    }
   }
  },
  {
   "cell_type": "code",
   "execution_count": null,
   "outputs": [],
   "source": [
    "data.head()"
   ],
   "metadata": {
    "collapsed": false,
    "pycharm": {
     "name": "#%%\n"
    }
   }
  },
  {
   "cell_type": "code",
   "execution_count": null,
   "outputs": [],
   "source": [
    "len_max = 0\n",
    "i_max = -1\n",
    "for index, row in data.iterrows():\n",
    "    print(row.text)\n",
    "    print(\"------\")\n",
    "    if len(row.text) > len_max:\n",
    "        len_max = len(row.text)\n",
    "        i_max = index\n",
    "print(\"max length = \" + str(len_max))\n",
    "print(data.iloc[i_max].text)"
   ],
   "metadata": {
    "collapsed": false,
    "pycharm": {
     "name": "#%%\n"
    }
   }
  },
  {
   "cell_type": "markdown",
   "source": [
    "### Data set statistics"
   ],
   "metadata": {
    "collapsed": false
   }
  },
  {
   "cell_type": "code",
   "execution_count": null,
   "outputs": [],
   "source": [
    "import os\n",
    "import pandas as pd\n",
    "\n",
    "data_path = 'data/causal/gold_causal.csv'\n",
    "if os.path.exists(data_path):\n",
    "    data = pd.read_csv(data_path)\n",
    "else:\n",
    "    data = obj.read_all()\n",
    "data.to_csv('data/causal/gold_causal.csv')\n",
    "train = data.loc[data.split == 0]\n",
    "dev = data.loc[data.split == 1]\n",
    "test = data.loc[data.split == 2]\n",
    "pos = data.loc[data.label == 1]\n",
    "neg = data.loc[data.label == 0]\n",
    "print(\"Total samples: \" + str(len(data)))\n",
    "print(\"----------------------------\")\n",
    "print(\"# Cuasal: \" + str(len(pos)))\n",
    "print(\"# Non-Cuasal: \" + str(len(neg)))\n",
    "print(\"----------------------------\")\n",
    "print(\"# train: \" + str(len(train)))\n",
    "print(\"# dev: \" + str(len(dev)))\n",
    "print(\"# test: \" + str(len(test)))\n",
    "print(\"----------------------------\")\n",
    "for i in range(7):\n",
    "    print(\"# source [\" + str(i+1) + \"]: \" + str(len(data.loc[data.source == (i+1)])))"
   ],
   "metadata": {
    "collapsed": false,
    "pycharm": {
     "name": "#%%\n"
    }
   }
  },
  {
   "cell_type": "code",
   "execution_count": null,
   "outputs": [],
   "source": [
    "# checking if all samples have labels\n",
    "print(\"# unlabeled samples: \" + str(len(data.loc[(data.label != 0) & (data.label != 1)])))"
   ],
   "metadata": {
    "collapsed": false,
    "pycharm": {
     "name": "#%%\n"
    }
   }
  },
  {
   "cell_type": "code",
   "execution_count": null,
   "outputs": [],
   "source": [],
   "metadata": {
    "collapsed": false,
    "pycharm": {
     "name": "#%%\n"
    }
   }
  }
 ],
 "metadata": {
  "kernelspec": {
   "display_name": "Python 3",
   "language": "python",
   "name": "python3"
  },
  "language_info": {
   "codemirror_mode": {
    "name": "ipython",
    "version": 2
   },
   "file_extension": ".py",
   "mimetype": "text/x-python",
   "name": "python",
   "nbconvert_exporter": "python",
   "pygments_lexer": "ipython2",
   "version": "2.7.6"
  },
  "pycharm": {
   "stem_cell": {
    "cell_type": "raw",
    "source": [],
    "metadata": {
     "collapsed": false
    }
   }
  }
 },
 "nbformat": 4,
 "nbformat_minor": 0
}