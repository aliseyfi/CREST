{
 "cells": [
  {
   "cell_type": "markdown",
   "metadata": {},
   "source": [
    "## Reading Causal Relations Corpora\n",
    "By: Pedram Hosseini (pdr.hosseini@gmail.com)\n",
    "\n",
    "There have been efforts in creating various causal relation corpora with different level of granularity based on multiple annotation schemes. These efforts, even though admirable, are fairly sparse which makes it hard for people in the NLP community to use the generated knowledge by these resources. To take a step to alleviate this problem to some degree and to make it easier for people to benefit from these data sets with reach source of human annotation, we wrote methods in a **CausalDataReader** class to convert all of these resources into a simple and friendly format so that anyone can easily use these samples.\n",
    "We try to keep most of the annotations from the original sources in the new schema so that no information will be lost during the data conversion. In the following, there is a list of current data sets which are covered in our collection:\n",
    "\n",
    "- **SemEval 2007 task 4** - Public (source: **1**)\n",
    "- **SemEval 2010 task 8** - Public (source: **2**)\n",
    "- **EventCausality data set** - Public (source: **3**)\n",
    "- **Causal-TimeBank** - Not public (source: **4**)\n",
    "- **Crowdsourcing-StoryLines 1.2** - Public (source: **5**)\n",
    "- **CaTeRS** - Public (source: **6**)\n",
    "- **BECAUSE v2.1** Public (source: **7**)\n",
    "- **Crowdsourcing-StoryLines 1.5** - Public (source: **8**)\n",
    "- **Your data set?**\n",
    "\n",
    "#### JOIN US\n",
    "We invite everyone in the ML/NLP/NLU community and groups of researchers who work on causal relations extraction in language to contribute to this repository, **data_reader.py** in particular, so that we all take a step forward in improving the quality of availbale data resources and alleviate the sparsness issue."
   ]
  },
  {
   "cell_type": "code",
   "execution_count": 1,
   "metadata": {
    "pycharm": {
     "name": "#%%\n"
    }
   },
   "outputs": [],
   "source": [
    "import data_reader as dr\n",
    "obj = dr.CausalDataReader()\n",
    "total_samples = 0\n",
    "\n",
    "def find_len_max(df_data):\n",
    "    len_max = 0\n",
    "    i_max = -1\n",
    "    for index, row in df_data.iterrows():\n",
    "        if len(row.text) > len_max:\n",
    "            len_max = len(row.text)\n",
    "            i_max = index\n",
    "    print(\"max length = \" + str(len_max))\n",
    "    print(data.iloc[i_max].text)"
   ]
  },
  {
   "cell_type": "markdown",
   "metadata": {},
   "source": [
    "## SemEval 2010 task 8"
   ]
  },
  {
   "cell_type": "code",
   "execution_count": 2,
   "metadata": {
    "pycharm": {
     "name": "#%%\n"
    }
   },
   "outputs": [
    {
     "name": "stdout",
     "output_type": "stream",
     "text": [
      "samples: 1331\n"
     ]
    }
   ],
   "source": [
    "data = obj.read_semeval_2010_8()\n",
    "total_samples += len(data)\n",
    "print(\"samples: \" + str(len(data)))"
   ]
  },
  {
   "cell_type": "code",
   "execution_count": 3,
   "metadata": {
    "pycharm": {
     "name": "#%%\n"
    }
   },
   "outputs": [
    {
     "data": {
      "text/html": [
       "<div>\n",
       "<style scoped>\n",
       "    .dataframe tbody tr th:only-of-type {\n",
       "        vertical-align: middle;\n",
       "    }\n",
       "\n",
       "    .dataframe tbody tr th {\n",
       "        vertical-align: top;\n",
       "    }\n",
       "\n",
       "    .dataframe thead th {\n",
       "        text-align: right;\n",
       "    }\n",
       "</style>\n",
       "<table border=\"1\" class=\"dataframe\">\n",
       "  <thead>\n",
       "    <tr style=\"text-align: right;\">\n",
       "      <th></th>\n",
       "      <th>id</th>\n",
       "      <th>arg1</th>\n",
       "      <th>arg2</th>\n",
       "      <th>text</th>\n",
       "      <th>direction</th>\n",
       "      <th>label</th>\n",
       "      <th>source</th>\n",
       "      <th>ann_file</th>\n",
       "      <th>split</th>\n",
       "    </tr>\n",
       "  </thead>\n",
       "  <tbody>\n",
       "    <tr>\n",
       "      <th>0</th>\n",
       "      <td>7</td>\n",
       "      <td>inflammation</td>\n",
       "      <td>infection</td>\n",
       "      <td>The current view is that the chronic &lt;@rg1&gt;inf...</td>\n",
       "      <td>1</td>\n",
       "      <td>1</td>\n",
       "      <td>2</td>\n",
       "      <td></td>\n",
       "      <td>0</td>\n",
       "    </tr>\n",
       "    <tr>\n",
       "      <th>1</th>\n",
       "      <td>14</td>\n",
       "      <td>burst</td>\n",
       "      <td>pressure</td>\n",
       "      <td>The &lt;@rg1&gt;burst&lt;/@rg1&gt; has been caused by wate...</td>\n",
       "      <td>1</td>\n",
       "      <td>1</td>\n",
       "      <td>2</td>\n",
       "      <td></td>\n",
       "      <td>0</td>\n",
       "    </tr>\n",
       "    <tr>\n",
       "      <th>2</th>\n",
       "      <td>23</td>\n",
       "      <td>singer</td>\n",
       "      <td>commotion</td>\n",
       "      <td>The &lt;@rg1&gt;singer&lt;/@rg1&gt;, who performed three o...</td>\n",
       "      <td>0</td>\n",
       "      <td>1</td>\n",
       "      <td>2</td>\n",
       "      <td></td>\n",
       "      <td>0</td>\n",
       "    </tr>\n",
       "    <tr>\n",
       "      <th>3</th>\n",
       "      <td>27</td>\n",
       "      <td>Suicide</td>\n",
       "      <td>death</td>\n",
       "      <td>&lt;@rg1&gt;Suicide&lt;/@rg1&gt; is one of the leading cau...</td>\n",
       "      <td>0</td>\n",
       "      <td>1</td>\n",
       "      <td>2</td>\n",
       "      <td></td>\n",
       "      <td>0</td>\n",
       "    </tr>\n",
       "    <tr>\n",
       "      <th>4</th>\n",
       "      <td>32</td>\n",
       "      <td>headaches</td>\n",
       "      <td>mold</td>\n",
       "      <td>He had chest pains and &lt;@rg1&gt;headaches&lt;/@rg1&gt; ...</td>\n",
       "      <td>1</td>\n",
       "      <td>1</td>\n",
       "      <td>2</td>\n",
       "      <td></td>\n",
       "      <td>0</td>\n",
       "    </tr>\n",
       "  </tbody>\n",
       "</table>\n",
       "</div>"
      ],
      "text/plain": [
       "   id          arg1       arg2  \\\n",
       "0   7  inflammation  infection   \n",
       "1  14         burst   pressure   \n",
       "2  23        singer  commotion   \n",
       "3  27       Suicide      death   \n",
       "4  32     headaches       mold   \n",
       "\n",
       "                                                text  direction  label  \\\n",
       "0  The current view is that the chronic <@rg1>inf...          1      1   \n",
       "1  The <@rg1>burst</@rg1> has been caused by wate...          1      1   \n",
       "2  The <@rg1>singer</@rg1>, who performed three o...          0      1   \n",
       "3  <@rg1>Suicide</@rg1> is one of the leading cau...          0      1   \n",
       "4  He had chest pains and <@rg1>headaches</@rg1> ...          1      1   \n",
       "\n",
       "   source ann_file  split  \n",
       "0       2               0  \n",
       "1       2               0  \n",
       "2       2               0  \n",
       "3       2               0  \n",
       "4       2               0  "
      ]
     },
     "execution_count": 3,
     "metadata": {},
     "output_type": "execute_result"
    }
   ],
   "source": [
    "data.head()"
   ]
  },
  {
   "cell_type": "code",
   "execution_count": 4,
   "metadata": {
    "pycharm": {
     "name": "#%%\n"
    }
   },
   "outputs": [
    {
     "name": "stdout",
     "output_type": "stream",
     "text": [
      "max length = 369\n",
      "The report links conditions in some of the worst affected localities and the likelihood that dire poverty - combined with despair and <@rg1>outrage</@rg1> over rampant <@rg2>corruption</@rg2>, repressive policies, and governments' failure to address local needs - could lead to outbreaks of localised unrest with the potential to spread into a wider regional conflict. \n"
     ]
    }
   ],
   "source": [
    "find_len_max(data)"
   ]
  },
  {
   "cell_type": "markdown",
   "metadata": {},
   "source": [
    "## SemEval 2007 task 4 "
   ]
  },
  {
   "cell_type": "code",
   "execution_count": 5,
   "metadata": {
    "pycharm": {
     "name": "#%%\n"
    }
   },
   "outputs": [
    {
     "name": "stdout",
     "output_type": "stream",
     "text": [
      "samples: 220\n"
     ]
    }
   ],
   "source": [
    "data = obj.read_semeval_2007_4()\n",
    "total_samples += len(data)\n",
    "print(\"samples: \" + str(len(data)))"
   ]
  },
  {
   "cell_type": "code",
   "execution_count": 6,
   "metadata": {
    "pycharm": {
     "name": "#%%\n"
    }
   },
   "outputs": [
    {
     "data": {
      "text/html": [
       "<div>\n",
       "<style scoped>\n",
       "    .dataframe tbody tr th:only-of-type {\n",
       "        vertical-align: middle;\n",
       "    }\n",
       "\n",
       "    .dataframe tbody tr th {\n",
       "        vertical-align: top;\n",
       "    }\n",
       "\n",
       "    .dataframe thead th {\n",
       "        text-align: right;\n",
       "    }\n",
       "</style>\n",
       "<table border=\"1\" class=\"dataframe\">\n",
       "  <thead>\n",
       "    <tr style=\"text-align: right;\">\n",
       "      <th></th>\n",
       "      <th>id</th>\n",
       "      <th>arg1</th>\n",
       "      <th>arg2</th>\n",
       "      <th>text</th>\n",
       "      <th>direction</th>\n",
       "      <th>label</th>\n",
       "      <th>source</th>\n",
       "      <th>ann_file</th>\n",
       "      <th>split</th>\n",
       "    </tr>\n",
       "  </thead>\n",
       "  <tbody>\n",
       "    <tr>\n",
       "      <th>0</th>\n",
       "      <td>1</td>\n",
       "      <td>tumor shrinkage</td>\n",
       "      <td>radiation therapy</td>\n",
       "      <td>The period of &lt;@rg1&gt;tumor shrinkage&lt;/@rg1&gt; aft...</td>\n",
       "      <td>1</td>\n",
       "      <td>1</td>\n",
       "      <td>1</td>\n",
       "      <td></td>\n",
       "      <td>0</td>\n",
       "    </tr>\n",
       "    <tr>\n",
       "      <th>1</th>\n",
       "      <td>2</td>\n",
       "      <td>Habitat degradation</td>\n",
       "      <td>stream channels</td>\n",
       "      <td>&lt;@rg1&gt;Habitat degradation&lt;/@rg1&gt; from within &lt;...</td>\n",
       "      <td>1</td>\n",
       "      <td>0</td>\n",
       "      <td>1</td>\n",
       "      <td></td>\n",
       "      <td>0</td>\n",
       "    </tr>\n",
       "    <tr>\n",
       "      <th>2</th>\n",
       "      <td>3</td>\n",
       "      <td>discomfort</td>\n",
       "      <td>traveling</td>\n",
       "      <td>Earplugs relieve the &lt;@rg1&gt;discomfort&lt;/@rg1&gt; f...</td>\n",
       "      <td>1</td>\n",
       "      <td>1</td>\n",
       "      <td>1</td>\n",
       "      <td></td>\n",
       "      <td>0</td>\n",
       "    </tr>\n",
       "    <tr>\n",
       "      <th>3</th>\n",
       "      <td>4</td>\n",
       "      <td>daily terror</td>\n",
       "      <td>antipersonnel land mines</td>\n",
       "      <td>We continue to see progress toward a world fre...</td>\n",
       "      <td>1</td>\n",
       "      <td>1</td>\n",
       "      <td>1</td>\n",
       "      <td></td>\n",
       "      <td>0</td>\n",
       "    </tr>\n",
       "    <tr>\n",
       "      <th>4</th>\n",
       "      <td>5</td>\n",
       "      <td>segment</td>\n",
       "      <td>anecdotes</td>\n",
       "      <td>The Global Warming &lt;@rg1&gt;segment&lt;/@rg1&gt; starts...</td>\n",
       "      <td>1</td>\n",
       "      <td>0</td>\n",
       "      <td>1</td>\n",
       "      <td></td>\n",
       "      <td>0</td>\n",
       "    </tr>\n",
       "  </tbody>\n",
       "</table>\n",
       "</div>"
      ],
      "text/plain": [
       "   id                 arg1                      arg2  \\\n",
       "0   1      tumor shrinkage         radiation therapy   \n",
       "1   2  Habitat degradation           stream channels   \n",
       "2   3           discomfort                 traveling   \n",
       "3   4         daily terror  antipersonnel land mines   \n",
       "4   5              segment                 anecdotes   \n",
       "\n",
       "                                                text  direction  label  \\\n",
       "0  The period of <@rg1>tumor shrinkage</@rg1> aft...          1      1   \n",
       "1  <@rg1>Habitat degradation</@rg1> from within <...          1      0   \n",
       "2  Earplugs relieve the <@rg1>discomfort</@rg1> f...          1      1   \n",
       "3  We continue to see progress toward a world fre...          1      1   \n",
       "4  The Global Warming <@rg1>segment</@rg1> starts...          1      0   \n",
       "\n",
       "   source ann_file  split  \n",
       "0       1               0  \n",
       "1       1               0  \n",
       "2       1               0  \n",
       "3       1               0  \n",
       "4       1               0  "
      ]
     },
     "execution_count": 6,
     "metadata": {},
     "output_type": "execute_result"
    }
   ],
   "source": [
    "data.head()"
   ]
  },
  {
   "cell_type": "code",
   "execution_count": 7,
   "metadata": {},
   "outputs": [
    {
     "name": "stdout",
     "output_type": "stream",
     "text": [
      "max length = 519\n",
      "Literary criticism is the study of literature by means of a microscopic knowledge of the language in which a book is written, of its <@rg1>growth</@rg1> from various <@rg2>roots</@rg2>, of its stages of development and the factors influencing them, of its condition in the period of this particular composition, of the writer's idiosyncrasies of thought and style in his ripening periods, of the general history and literature of his race, and of the special characteristics of his age and of his contemporary writers. \n"
     ]
    }
   ],
   "source": [
    "find_len_max(data)"
   ]
  },
  {
   "cell_type": "markdown",
   "metadata": {},
   "source": [
    "## EventCausality data set"
   ]
  },
  {
   "cell_type": "code",
   "execution_count": 8,
   "metadata": {
    "pycharm": {
     "name": "#%%\n"
    }
   },
   "outputs": [
    {
     "name": "stdout",
     "output_type": "stream",
     "text": [
      "samples: 485\n"
     ]
    }
   ],
   "source": [
    "data = obj.read_event_causality()\n",
    "total_samples += len(data)\n",
    "print(\"samples: \" + str(len(data)))"
   ]
  },
  {
   "cell_type": "code",
   "execution_count": 9,
   "metadata": {
    "pycharm": {
     "name": "#%%\n"
    }
   },
   "outputs": [
    {
     "data": {
      "text/html": [
       "<div>\n",
       "<style scoped>\n",
       "    .dataframe tbody tr th:only-of-type {\n",
       "        vertical-align: middle;\n",
       "    }\n",
       "\n",
       "    .dataframe tbody tr th {\n",
       "        vertical-align: top;\n",
       "    }\n",
       "\n",
       "    .dataframe thead th {\n",
       "        text-align: right;\n",
       "    }\n",
       "</style>\n",
       "<table border=\"1\" class=\"dataframe\">\n",
       "  <thead>\n",
       "    <tr style=\"text-align: right;\">\n",
       "      <th></th>\n",
       "      <th>id</th>\n",
       "      <th>arg1</th>\n",
       "      <th>arg2</th>\n",
       "      <th>text</th>\n",
       "      <th>direction</th>\n",
       "      <th>label</th>\n",
       "      <th>source</th>\n",
       "      <th>ann_file</th>\n",
       "      <th>split</th>\n",
       "    </tr>\n",
       "  </thead>\n",
       "  <tbody>\n",
       "    <tr>\n",
       "      <th>0</th>\n",
       "      <td>1</td>\n",
       "      <td>attacks</td>\n",
       "      <td>conclude</td>\n",
       "      <td>The company says the &lt;@rg1&gt;attacks&lt;/@rg1&gt; \" ha...</td>\n",
       "      <td>1</td>\n",
       "      <td>1</td>\n",
       "      <td>3</td>\n",
       "      <td></td>\n",
       "      <td>1</td>\n",
       "    </tr>\n",
       "    <tr>\n",
       "      <th>1</th>\n",
       "      <td>2</td>\n",
       "      <td>conclude</td>\n",
       "      <td>review</td>\n",
       "      <td>The company says the attacks \" have led us to ...</td>\n",
       "      <td>1</td>\n",
       "      <td>1</td>\n",
       "      <td>3</td>\n",
       "      <td></td>\n",
       "      <td>1</td>\n",
       "    </tr>\n",
       "    <tr>\n",
       "      <th>2</th>\n",
       "      <td>3</td>\n",
       "      <td>deliveries</td>\n",
       "      <td>interpreted</td>\n",
       "      <td>A large number of flower &lt;@rg1&gt;deliveries&lt;/@rg...</td>\n",
       "      <td>1</td>\n",
       "      <td>1</td>\n",
       "      <td>3</td>\n",
       "      <td></td>\n",
       "      <td>1</td>\n",
       "    </tr>\n",
       "    <tr>\n",
       "      <th>3</th>\n",
       "      <td>4</td>\n",
       "      <td>leaves</td>\n",
       "      <td>advancement</td>\n",
       "      <td>\" If Google &lt;@rg1&gt;leaves&lt;/@rg1&gt; China , it is ...</td>\n",
       "      <td>1</td>\n",
       "      <td>1</td>\n",
       "      <td>3</td>\n",
       "      <td></td>\n",
       "      <td>1</td>\n",
       "    </tr>\n",
       "    <tr>\n",
       "      <th>4</th>\n",
       "      <td>5</td>\n",
       "      <td>leaves</td>\n",
       "      <td>success</td>\n",
       "      <td>\" If Google &lt;@rg1&gt;leaves&lt;/@rg1&gt; China , it is ...</td>\n",
       "      <td>1</td>\n",
       "      <td>1</td>\n",
       "      <td>3</td>\n",
       "      <td></td>\n",
       "      <td>1</td>\n",
       "    </tr>\n",
       "  </tbody>\n",
       "</table>\n",
       "</div>"
      ],
      "text/plain": [
       "   id        arg1         arg2  \\\n",
       "0   1     attacks     conclude   \n",
       "1   2    conclude       review   \n",
       "2   3  deliveries  interpreted   \n",
       "3   4      leaves  advancement   \n",
       "4   5      leaves      success   \n",
       "\n",
       "                                                text  direction  label  \\\n",
       "0  The company says the <@rg1>attacks</@rg1> \" ha...          1      1   \n",
       "1  The company says the attacks \" have led us to ...          1      1   \n",
       "2  A large number of flower <@rg1>deliveries</@rg...          1      1   \n",
       "3  \" If Google <@rg1>leaves</@rg1> China , it is ...          1      1   \n",
       "4  \" If Google <@rg1>leaves</@rg1> China , it is ...          1      1   \n",
       "\n",
       "   source ann_file  split  \n",
       "0       3               1  \n",
       "1       3               1  \n",
       "2       3               1  \n",
       "3       3               1  \n",
       "4       3               1  "
      ]
     },
     "execution_count": 9,
     "metadata": {},
     "output_type": "execute_result"
    }
   ],
   "source": [
    "data.head()"
   ]
  },
  {
   "cell_type": "code",
   "execution_count": 10,
   "metadata": {
    "pycharm": {
     "name": "#%%\n"
    }
   },
   "outputs": [
    {
     "name": "stdout",
     "output_type": "stream",
     "text": [
      "max length = 1102\n",
      "French police <@rg1>responded</@rg1> to reports of car theft in a town near Paris late Tuesday and a shootout ensued with a group of alleged thieves . Most of them escaped but police captured one and he was later identified as a suspected ETA member , said the spokeswoman , who by custom is not identified . Spanish media reported that the shootout occurred in the town of Dammarie-les-Lys . The dead French policeman was wearing a bullet-proof vest but bullets struck fatally elsewhere on his body . He was reported to be in his 50s , and the father of four children . ETA has traditionally used France as its rearguard logistics and planning base to prepare attacks across the border in Spain , officials say . But in recent years as Spain has enlisted increased cooperation from France in cracking down on ETA hideouts , there have been various exchanges of gunfire between ETA suspects and French police , wounding some officers . Almost all of ETA 's fatal shootings and car bombings have occurred in Spain . But <@rg2>in</@rg2> December 2007 , ETA shot dead two Spanish Civil Guards in France . \n"
     ]
    }
   ],
   "source": [
    "find_len_max(data)"
   ]
  },
  {
   "cell_type": "markdown",
   "metadata": {},
   "source": [
    "## Causal-TimeBank"
   ]
  },
  {
   "cell_type": "code",
   "execution_count": 11,
   "metadata": {
    "pycharm": {
     "name": "#%%\n"
    }
   },
   "outputs": [
    {
     "name": "stdout",
     "output_type": "stream",
     "text": [
      "samples: 312\n"
     ]
    }
   ],
   "source": [
    "data = obj.read_causal_timebank()\n",
    "total_samples += len(data)\n",
    "print(\"samples: \" + str(len(data)))"
   ]
  },
  {
   "cell_type": "code",
   "execution_count": 12,
   "metadata": {
    "pycharm": {
     "name": "#%%\n"
    }
   },
   "outputs": [
    {
     "data": {
      "text/html": [
       "<div>\n",
       "<style scoped>\n",
       "    .dataframe tbody tr th:only-of-type {\n",
       "        vertical-align: middle;\n",
       "    }\n",
       "\n",
       "    .dataframe tbody tr th {\n",
       "        vertical-align: top;\n",
       "    }\n",
       "\n",
       "    .dataframe thead th {\n",
       "        text-align: right;\n",
       "    }\n",
       "</style>\n",
       "<table border=\"1\" class=\"dataframe\">\n",
       "  <thead>\n",
       "    <tr style=\"text-align: right;\">\n",
       "      <th></th>\n",
       "      <th>id</th>\n",
       "      <th>arg1</th>\n",
       "      <th>arg2</th>\n",
       "      <th>text</th>\n",
       "      <th>direction</th>\n",
       "      <th>label</th>\n",
       "      <th>source</th>\n",
       "      <th>ann_file</th>\n",
       "      <th>split</th>\n",
       "    </tr>\n",
       "  </thead>\n",
       "  <tbody>\n",
       "    <tr>\n",
       "      <th>0</th>\n",
       "      <td>1</td>\n",
       "      <td>downturn</td>\n",
       "      <td>spending</td>\n",
       "      <td>But in the past three months , stocks have plu...</td>\n",
       "      <td>0</td>\n",
       "      <td>1</td>\n",
       "      <td>4</td>\n",
       "      <td>ABC19980108.1830.0711.xml</td>\n",
       "      <td></td>\n",
       "    </tr>\n",
       "    <tr>\n",
       "      <th>1</th>\n",
       "      <td>2</td>\n",
       "      <td>change</td>\n",
       "      <td>reposition</td>\n",
       "      <td>The Indonesian currency has lost twenty six pe...</td>\n",
       "      <td>0</td>\n",
       "      <td>1</td>\n",
       "      <td>4</td>\n",
       "      <td>ABC19980108.1830.0711.xml</td>\n",
       "      <td></td>\n",
       "    </tr>\n",
       "    <tr>\n",
       "      <th>2</th>\n",
       "      <td>3</td>\n",
       "      <td>rains</td>\n",
       "      <td>landslides</td>\n",
       "      <td>Officials in California are warning residents ...</td>\n",
       "      <td>0</td>\n",
       "      <td>1</td>\n",
       "      <td>4</td>\n",
       "      <td>PRI19980213.2000.0313.xml</td>\n",
       "      <td></td>\n",
       "    </tr>\n",
       "    <tr>\n",
       "      <th>3</th>\n",
       "      <td>4</td>\n",
       "      <td>get</td>\n",
       "      <td>rains</td>\n",
       "      <td>Forecasters say the picture will &lt;@rg1&gt;get&lt;/@r...</td>\n",
       "      <td>1</td>\n",
       "      <td>1</td>\n",
       "      <td>4</td>\n",
       "      <td>PRI19980213.2000.0313.xml</td>\n",
       "      <td></td>\n",
       "    </tr>\n",
       "    <tr>\n",
       "      <th>4</th>\n",
       "      <td>5</td>\n",
       "      <td>dispute</td>\n",
       "      <td>invasion</td>\n",
       "      <td>Bush , commenting on the two-week gulf crisis ...</td>\n",
       "      <td>1</td>\n",
       "      <td>1</td>\n",
       "      <td>4</td>\n",
       "      <td>AP900816-0139.xml</td>\n",
       "      <td></td>\n",
       "    </tr>\n",
       "  </tbody>\n",
       "</table>\n",
       "</div>"
      ],
      "text/plain": [
       "   id       arg1         arg2  \\\n",
       "0   1  downturn     spending    \n",
       "1   2    change   reposition    \n",
       "2   3     rains   landslides    \n",
       "3   4       get        rains    \n",
       "4   5   dispute     invasion    \n",
       "\n",
       "                                                text  direction  label  \\\n",
       "0  But in the past three months , stocks have plu...          0      1   \n",
       "1  The Indonesian currency has lost twenty six pe...          0      1   \n",
       "2  Officials in California are warning residents ...          0      1   \n",
       "3  Forecasters say the picture will <@rg1>get</@r...          1      1   \n",
       "4  Bush , commenting on the two-week gulf crisis ...          1      1   \n",
       "\n",
       "   source                   ann_file split  \n",
       "0       4  ABC19980108.1830.0711.xml        \n",
       "1       4  ABC19980108.1830.0711.xml        \n",
       "2       4  PRI19980213.2000.0313.xml        \n",
       "3       4  PRI19980213.2000.0313.xml        \n",
       "4       4          AP900816-0139.xml        "
      ]
     },
     "execution_count": 12,
     "metadata": {},
     "output_type": "execute_result"
    }
   ],
   "source": [
    "data.head()"
   ]
  },
  {
   "cell_type": "code",
   "execution_count": 13,
   "metadata": {
    "pycharm": {
     "name": "#%%\n"
    }
   },
   "outputs": [
    {
     "name": "stdout",
     "output_type": "stream",
     "text": [
      "max length = 784\n",
      "WASHINGTON _ Following are <@rg1>statements</@rg1> made Friday and Thursday by Lawrence Wechsler , a lawyer for the White House secretary , Betty Currie ; the White House ; White House spokesman Mike McCurry , and President Clinton in response to an article in The New York Times on Friday about her <@rg2>statements</@rg2> regarding a meeting with the president : Wechsler on Thursday \" Without commenting on the allegations raised in this article , to the extent that there is any implication or suggestion that Mrs. Currie was aware of any legal or ethical impropriety by anyone , that implication or suggestion is entirely inaccurate . \" I was pleased that Ms. Currie 's lawyers stated unambiguously this morning _ unambiguously _ that she 's not aware of any unethical conduct . \n"
     ]
    }
   ],
   "source": [
    "find_len_max(data)"
   ]
  },
  {
   "cell_type": "markdown",
   "metadata": {},
   "source": [
    "## Crowdsourcing-StoryLines"
   ]
  },
  {
   "cell_type": "code",
   "execution_count": 14,
   "metadata": {
    "pycharm": {
     "name": "#%%\n"
    }
   },
   "outputs": [
    {
     "name": "stdout",
     "output_type": "stream",
     "text": [
      "samples: 1540\n"
     ]
    }
   ],
   "source": [
    "data = obj.read_story_lines()\n",
    "total_samples += len(data)\n",
    "print(\"samples: \" + str(len(data)))"
   ]
  },
  {
   "cell_type": "code",
   "execution_count": 15,
   "metadata": {
    "pycharm": {
     "name": "#%%\n"
    }
   },
   "outputs": [
    {
     "data": {
      "text/html": [
       "<div>\n",
       "<style scoped>\n",
       "    .dataframe tbody tr th:only-of-type {\n",
       "        vertical-align: middle;\n",
       "    }\n",
       "\n",
       "    .dataframe tbody tr th {\n",
       "        vertical-align: top;\n",
       "    }\n",
       "\n",
       "    .dataframe thead th {\n",
       "        text-align: right;\n",
       "    }\n",
       "</style>\n",
       "<table border=\"1\" class=\"dataframe\">\n",
       "  <thead>\n",
       "    <tr style=\"text-align: right;\">\n",
       "      <th></th>\n",
       "      <th>id</th>\n",
       "      <th>arg1</th>\n",
       "      <th>arg2</th>\n",
       "      <th>text</th>\n",
       "      <th>direction</th>\n",
       "      <th>label</th>\n",
       "      <th>source</th>\n",
       "      <th>ann_file</th>\n",
       "      <th>split</th>\n",
       "    </tr>\n",
       "  </thead>\n",
       "  <tbody>\n",
       "    <tr>\n",
       "      <th>0</th>\n",
       "      <td>1</td>\n",
       "      <td>double murder</td>\n",
       "      <td>killing</td>\n",
       "      <td>Cumbria &lt;@rg1&gt;double murder&lt;/@rg1&gt; : Son suspe...</td>\n",
       "      <td>1</td>\n",
       "      <td>1</td>\n",
       "      <td>5</td>\n",
       "      <td></td>\n",
       "      <td></td>\n",
       "    </tr>\n",
       "    <tr>\n",
       "      <th>1</th>\n",
       "      <td>2</td>\n",
       "      <td>sectioned</td>\n",
       "      <td>suicide attempt</td>\n",
       "      <td>John Jenkin , 23 , had been &lt;@rg1&gt;sectioned&lt;/@...</td>\n",
       "      <td>1</td>\n",
       "      <td>1</td>\n",
       "      <td>5</td>\n",
       "      <td></td>\n",
       "      <td></td>\n",
       "    </tr>\n",
       "    <tr>\n",
       "      <th>2</th>\n",
       "      <td>3</td>\n",
       "      <td>charged</td>\n",
       "      <td>killing</td>\n",
       "      <td>Millom double murder : Man &lt;@rg1&gt;charged&lt;/@rg1...</td>\n",
       "      <td>1</td>\n",
       "      <td>1</td>\n",
       "      <td>5</td>\n",
       "      <td></td>\n",
       "      <td></td>\n",
       "    </tr>\n",
       "    <tr>\n",
       "      <th>3</th>\n",
       "      <td>4</td>\n",
       "      <td>double murder</td>\n",
       "      <td>charged</td>\n",
       "      <td>Millom &lt;@rg1&gt;double murder&lt;/@rg1&gt; : Man &lt;@rg2&gt;...</td>\n",
       "      <td>0</td>\n",
       "      <td>1</td>\n",
       "      <td>5</td>\n",
       "      <td></td>\n",
       "      <td></td>\n",
       "    </tr>\n",
       "    <tr>\n",
       "      <th>4</th>\n",
       "      <td>5</td>\n",
       "      <td>charged</td>\n",
       "      <td>murder</td>\n",
       "      <td>A MAN has been &lt;@rg1&gt;charged&lt;/@rg1&gt; with the &lt;...</td>\n",
       "      <td>1</td>\n",
       "      <td>1</td>\n",
       "      <td>5</td>\n",
       "      <td></td>\n",
       "      <td></td>\n",
       "    </tr>\n",
       "  </tbody>\n",
       "</table>\n",
       "</div>"
      ],
      "text/plain": [
       "   id           arg1             arg2  \\\n",
       "0   1  double murder          killing   \n",
       "1   2      sectioned  suicide attempt   \n",
       "2   3        charged          killing   \n",
       "3   4  double murder          charged   \n",
       "4   5        charged           murder   \n",
       "\n",
       "                                                text  direction  label  \\\n",
       "0  Cumbria <@rg1>double murder</@rg1> : Son suspe...          1      1   \n",
       "1  John Jenkin , 23 , had been <@rg1>sectioned</@...          1      1   \n",
       "2  Millom double murder : Man <@rg1>charged</@rg1...          1      1   \n",
       "3  Millom <@rg1>double murder</@rg1> : Man <@rg2>...          0      1   \n",
       "4  A MAN has been <@rg1>charged</@rg1> with the <...          1      1   \n",
       "\n",
       "   source ann_file split  \n",
       "0       5                 \n",
       "1       5                 \n",
       "2       5                 \n",
       "3       5                 \n",
       "4       5                 "
      ]
     },
     "execution_count": 15,
     "metadata": {},
     "output_type": "execute_result"
    }
   ],
   "source": [
    "data.head()"
   ]
  },
  {
   "cell_type": "code",
   "execution_count": 16,
   "metadata": {
    "pycharm": {
     "name": "#%%\n"
    }
   },
   "outputs": [
    {
     "name": "stdout",
     "output_type": "stream",
     "text": [
      "max length = 416\n",
      "Then came the anger : a Monday evening vigil <@rg1>marred</@rg1> by an unruly young mob <@rg2>thrashing</@rg2> its way through local businesses ; a second protest the next night ; and another on Wednesday night , after which , the police said , someone hit an officer in the face with a brick , another brick was thrown through the window of a police van , and there were 46 arrests — mostly for disorderly conduct .\n"
     ]
    }
   ],
   "source": [
    "find_len_max(data)"
   ]
  },
  {
   "cell_type": "markdown",
   "metadata": {},
   "source": [
    "## CaTeRS"
   ]
  },
  {
   "cell_type": "code",
   "execution_count": 17,
   "metadata": {
    "pycharm": {
     "name": "#%%\n"
    }
   },
   "outputs": [
    {
     "name": "stdout",
     "output_type": "stream",
     "text": [
      "samples: 203\n"
     ]
    }
   ],
   "source": [
    "data = obj.read_CaTeRS()\n",
    "total_samples += len(data)\n",
    "print(\"samples: \" + str(len(data)))"
   ]
  },
  {
   "cell_type": "code",
   "execution_count": 18,
   "metadata": {
    "pycharm": {
     "name": "#%%\n"
    }
   },
   "outputs": [
    {
     "name": "stdout",
     "output_type": "stream",
     "text": [
      "Deb was visiting family for the holidays. They were at dinner when Deb's job came up. Everyone asked Deb about work, and Deb <@rg2>got</@rg2> nervous. The truth was that she had been <@rg1>unemployed</@rg1> for some time. Finally, she decided to just admit it to her family.\n",
      "unemployed\n",
      "got\n",
      "batch_8.ann\n"
     ]
    }
   ],
   "source": [
    "i = 200\n",
    "print(data.iloc[i]['text'])\n",
    "print(data.iloc[i]['arg1'])\n",
    "print(data.iloc[i]['arg2'])\n",
    "print(data.iloc[i]['ann_file'])"
   ]
  },
  {
   "cell_type": "code",
   "execution_count": 19,
   "metadata": {
    "pycharm": {
     "name": "#%%\n"
    }
   },
   "outputs": [
    {
     "data": {
      "text/html": [
       "<div>\n",
       "<style scoped>\n",
       "    .dataframe tbody tr th:only-of-type {\n",
       "        vertical-align: middle;\n",
       "    }\n",
       "\n",
       "    .dataframe tbody tr th {\n",
       "        vertical-align: top;\n",
       "    }\n",
       "\n",
       "    .dataframe thead th {\n",
       "        text-align: right;\n",
       "    }\n",
       "</style>\n",
       "<table border=\"1\" class=\"dataframe\">\n",
       "  <thead>\n",
       "    <tr style=\"text-align: right;\">\n",
       "      <th></th>\n",
       "      <th>id</th>\n",
       "      <th>arg1</th>\n",
       "      <th>arg2</th>\n",
       "      <th>text</th>\n",
       "      <th>direction</th>\n",
       "      <th>label</th>\n",
       "      <th>source</th>\n",
       "      <th>ann_file</th>\n",
       "      <th>split</th>\n",
       "    </tr>\n",
       "  </thead>\n",
       "  <tbody>\n",
       "    <tr>\n",
       "      <th>0</th>\n",
       "      <td>1</td>\n",
       "      <td>lost</td>\n",
       "      <td>fit</td>\n",
       "      <td>Kay &lt;@rg1&gt;lost&lt;/@rg1&gt; 50 pounds and her clothe...</td>\n",
       "      <td>0</td>\n",
       "      <td>1</td>\n",
       "      <td>6</td>\n",
       "      <td>part_12.ann</td>\n",
       "      <td>1</td>\n",
       "    </tr>\n",
       "    <tr>\n",
       "      <th>1</th>\n",
       "      <td>2</td>\n",
       "      <td>impressed</td>\n",
       "      <td>bought</td>\n",
       "      <td>Kay lost 50 pounds and her clothes no longer f...</td>\n",
       "      <td>0</td>\n",
       "      <td>1</td>\n",
       "      <td>6</td>\n",
       "      <td>part_12.ann</td>\n",
       "      <td>1</td>\n",
       "    </tr>\n",
       "    <tr>\n",
       "      <th>2</th>\n",
       "      <td>3</td>\n",
       "      <td>fit</td>\n",
       "      <td>decided</td>\n",
       "      <td>Kay lost 50 pounds and her clothes no longer &lt;...</td>\n",
       "      <td>0</td>\n",
       "      <td>1</td>\n",
       "      <td>6</td>\n",
       "      <td>part_12.ann</td>\n",
       "      <td>1</td>\n",
       "    </tr>\n",
       "    <tr>\n",
       "      <th>3</th>\n",
       "      <td>4</td>\n",
       "      <td>skied</td>\n",
       "      <td>be</td>\n",
       "      <td>Charles was 10-years-old when his uncle took h...</td>\n",
       "      <td>0</td>\n",
       "      <td>1</td>\n",
       "      <td>6</td>\n",
       "      <td>part_12.ann</td>\n",
       "      <td>1</td>\n",
       "    </tr>\n",
       "    <tr>\n",
       "      <th>4</th>\n",
       "      <td>5</td>\n",
       "      <td>was</td>\n",
       "      <td>cleaning</td>\n",
       "      <td>Marion &lt;@rg1&gt;was&lt;/@rg1&gt; about to move. She was...</td>\n",
       "      <td>0</td>\n",
       "      <td>1</td>\n",
       "      <td>6</td>\n",
       "      <td>part_12.ann</td>\n",
       "      <td>1</td>\n",
       "    </tr>\n",
       "  </tbody>\n",
       "</table>\n",
       "</div>"
      ],
      "text/plain": [
       "   id       arg1      arg2                                               text  \\\n",
       "0   1       lost       fit  Kay <@rg1>lost</@rg1> 50 pounds and her clothe...   \n",
       "1   2  impressed    bought  Kay lost 50 pounds and her clothes no longer f...   \n",
       "2   3        fit   decided  Kay lost 50 pounds and her clothes no longer <...   \n",
       "3   4      skied        be  Charles was 10-years-old when his uncle took h...   \n",
       "4   5        was  cleaning  Marion <@rg1>was</@rg1> about to move. She was...   \n",
       "\n",
       "   direction  label  source     ann_file  split  \n",
       "0          0      1       6  part_12.ann      1  \n",
       "1          0      1       6  part_12.ann      1  \n",
       "2          0      1       6  part_12.ann      1  \n",
       "3          0      1       6  part_12.ann      1  \n",
       "4          0      1       6  part_12.ann      1  "
      ]
     },
     "execution_count": 19,
     "metadata": {},
     "output_type": "execute_result"
    }
   ],
   "source": [
    "data.head()"
   ]
  },
  {
   "cell_type": "code",
   "execution_count": 20,
   "metadata": {
    "pycharm": {
     "name": "#%%\n"
    }
   },
   "outputs": [
    {
     "name": "stdout",
     "output_type": "stream",
     "text": [
      "max length = 348\n",
      "There used to be a candy store down the block from where Joe lived. One day, Joe was walking down the street and saw that it was <@rg1>closed</@rg1>. He asked someone who was walking by why it was closed. Joe didn't go there very often, but it was still <@rg2>upsetting</@rg2>. Now that Joe has kids, he has to drive three miles just to get to one.\n"
     ]
    }
   ],
   "source": [
    "find_len_max(data)"
   ]
  },
  {
   "cell_type": "markdown",
   "metadata": {},
   "source": [
    "## BECAUSE v2.1\n",
    "\n",
    "Since the raw text files for **PTB** and **NYT** need LDC subscription, these file have not been covered in our data reader yet. Once we have access to the raw files from these data resources, we will write the proper data readers for them."
   ]
  },
  {
   "cell_type": "code",
   "execution_count": 21,
   "metadata": {
    "pycharm": {
     "name": "#%%\n"
    }
   },
   "outputs": [
    {
     "name": "stdout",
     "output_type": "stream",
     "text": [
      "samples: 636\n"
     ]
    }
   ],
   "source": [
    "data = obj.read_because()\n",
    "total_samples += len(data)\n",
    "print(\"samples: \" + str(len(data)))"
   ]
  },
  {
   "cell_type": "code",
   "execution_count": 22,
   "metadata": {
    "pycharm": {
     "name": "#%%\n"
    }
   },
   "outputs": [
    {
     "data": {
      "text/html": [
       "<div>\n",
       "<style scoped>\n",
       "    .dataframe tbody tr th:only-of-type {\n",
       "        vertical-align: middle;\n",
       "    }\n",
       "\n",
       "    .dataframe tbody tr th {\n",
       "        vertical-align: top;\n",
       "    }\n",
       "\n",
       "    .dataframe thead th {\n",
       "        text-align: right;\n",
       "    }\n",
       "</style>\n",
       "<table border=\"1\" class=\"dataframe\">\n",
       "  <thead>\n",
       "    <tr style=\"text-align: right;\">\n",
       "      <th></th>\n",
       "      <th>id</th>\n",
       "      <th>arg1</th>\n",
       "      <th>arg2</th>\n",
       "      <th>text</th>\n",
       "      <th>direction</th>\n",
       "      <th>label</th>\n",
       "      <th>source</th>\n",
       "      <th>ann_file</th>\n",
       "      <th>split</th>\n",
       "    </tr>\n",
       "  </thead>\n",
       "  <tbody>\n",
       "    <tr>\n",
       "      <th>0</th>\n",
       "      <td>1</td>\n",
       "      <td>that has arisen</td>\n",
       "      <td>the past few years</td>\n",
       "      <td>And second, we should address the issue &lt;@rg1&gt;...</td>\n",
       "      <td>0</td>\n",
       "      <td>0</td>\n",
       "      <td>7</td>\n",
       "      <td>CHRG-111shrg61651.ann</td>\n",
       "      <td></td>\n",
       "    </tr>\n",
       "    <tr>\n",
       "      <th>1</th>\n",
       "      <td>2</td>\n",
       "      <td>these banks are too big to fail</td>\n",
       "      <td>they have lower funding costs, they are able t...</td>\n",
       "      <td>This is unfair competition. &lt;S!G&gt;Because&lt;/S!G&gt;...</td>\n",
       "      <td>0</td>\n",
       "      <td>1</td>\n",
       "      <td>7</td>\n",
       "      <td>CHRG-111shrg61651.ann</td>\n",
       "      <td></td>\n",
       "    </tr>\n",
       "    <tr>\n",
       "      <th>2</th>\n",
       "      <td>3</td>\n",
       "      <td>they make more money</td>\n",
       "      <td>the cycle</td>\n",
       "      <td>This is unfair competition. Because these bank...</td>\n",
       "      <td>0</td>\n",
       "      <td>0</td>\n",
       "      <td>7</td>\n",
       "      <td>CHRG-111shrg61651.ann</td>\n",
       "      <td></td>\n",
       "    </tr>\n",
       "    <tr>\n",
       "      <th>3</th>\n",
       "      <td>4</td>\n",
       "      <td>too big</td>\n",
       "      <td>fail</td>\n",
       "      <td>This is unfair competition. Because these bank...</td>\n",
       "      <td>0</td>\n",
       "      <td>1</td>\n",
       "      <td>7</td>\n",
       "      <td>CHRG-111shrg61651.ann</td>\n",
       "      <td></td>\n",
       "    </tr>\n",
       "    <tr>\n",
       "      <th>4</th>\n",
       "      <td>5</td>\n",
       "      <td>you look at the European situation today</td>\n",
       "      <td>it is much worse than what we have in this cou...</td>\n",
       "      <td>&lt;S!G&gt; If&lt;/S!G&gt; &lt;@rg1&gt;you look at the European ...</td>\n",
       "      <td>0</td>\n",
       "      <td>0</td>\n",
       "      <td>7</td>\n",
       "      <td>CHRG-111shrg61651.ann</td>\n",
       "      <td></td>\n",
       "    </tr>\n",
       "  </tbody>\n",
       "</table>\n",
       "</div>"
      ],
      "text/plain": [
       "   id                                      arg1  \\\n",
       "0   1                           that has arisen   \n",
       "1   2           these banks are too big to fail   \n",
       "2   3                      they make more money   \n",
       "3   4                                   too big   \n",
       "4   5  you look at the European situation today   \n",
       "\n",
       "                                                arg2  \\\n",
       "0                                 the past few years   \n",
       "1  they have lower funding costs, they are able t...   \n",
       "2                                          the cycle   \n",
       "3                                               fail   \n",
       "4  it is much worse than what we have in this cou...   \n",
       "\n",
       "                                                text  direction  label  \\\n",
       "0  And second, we should address the issue <@rg1>...          0      0   \n",
       "1  This is unfair competition. <S!G>Because</S!G>...          0      1   \n",
       "2  This is unfair competition. Because these bank...          0      0   \n",
       "3  This is unfair competition. Because these bank...          0      1   \n",
       "4  <S!G> If</S!G> <@rg1>you look at the European ...          0      0   \n",
       "\n",
       "   source               ann_file split  \n",
       "0       7  CHRG-111shrg61651.ann        \n",
       "1       7  CHRG-111shrg61651.ann        \n",
       "2       7  CHRG-111shrg61651.ann        \n",
       "3       7  CHRG-111shrg61651.ann        \n",
       "4       7  CHRG-111shrg61651.ann        "
      ]
     },
     "execution_count": 22,
     "metadata": {},
     "output_type": "execute_result"
    }
   ],
   "source": [
    "data.head()"
   ]
  },
  {
   "cell_type": "code",
   "execution_count": 23,
   "metadata": {
    "pycharm": {
     "name": "#%%\n"
    }
   },
   "outputs": [
    {
     "name": "stdout",
     "output_type": "stream",
     "text": [
      "max length = 1616\n",
      "3. <@rg1>Your failure to act to prevent the acceptance of or to pay for gifts of earrings from Mr.</@rg1> <@rg2>Your failure to act to prevent the acceptance of or to pay for gifts of earrings from Mr.</@rg2> <@rg1>Chang to individuals (your sister, an employee and a friend) in your home at Christmas on the</@rg1> <@rg2>Chang to individuals (your sister, an employee and a friend) in your home at Christmas on the</@rg2> <@rg1>mistaken belief that such items were of little value or were not gifts to you under the</@rg1> <@rg2>mistaken belief that such items were of little value or were not gifts to you under the</@rg2> <@rg1>circumstances</@rg1> <@rg2>circumstances</@rg2>, evidenced poor judgment, displayed a lack of due regard for Senate rules and <@rg1>resulted in a violation of the Senate Gifts Rule (35)</@rg1> <@rg2>resulted in</@rg2> a violation of the Senate Gifts Rule (35) and, <S!G>consequently</S!G>, <@rg2>a violation of your</@rg2> <@rg2>public disclosure obligations under Senate Rule 34</@rg2>. 4. Continuation of a personal and official relationship with Mr. Chang under circumstances where you knew that he was attempting to ingratiate himself, in part through a pattern of attempts to provide you and those around you with gifts over a period of several years when you and your Senate Office were taking official actions of benefit to Mr. Chang (contacting United States Government officials, writing letters to foreign government officials and involving Mr. Chang of his representatives in situations where you were meeting with officials of foreign governments) evidenced poor judgment. \n"
     ]
    }
   ],
   "source": [
    "find_len_max(data)"
   ]
  },
  {
   "cell_type": "markdown",
   "metadata": {},
   "source": [
    "## EventStroyLine v1.5"
   ]
  },
  {
   "cell_type": "code",
   "execution_count": 24,
   "metadata": {},
   "outputs": [
    {
     "name": "stdout",
     "output_type": "stream",
     "text": [
      "samples: 2055\n"
     ]
    }
   ],
   "source": [
    "data = obj.read_story_lines_v15()\n",
    "total_samples += len(data)\n",
    "print(\"samples: \" + str(len(data)))"
   ]
  },
  {
   "cell_type": "code",
   "execution_count": 29,
   "metadata": {},
   "outputs": [
    {
     "name": "stdout",
     "output_type": "stream",
     "text": [
      "# causal: 104\n",
      "# non-causal: 1951\n"
     ]
    }
   ],
   "source": [
    "pos = data.loc[data.label == 1]\n",
    "neg = data.loc[data.label == 0]\n",
    "print(\"# causal: \" + str(len(pos)))\n",
    "print(\"# non-causal: \" +str(len(neg)))"
   ]
  },
  {
   "cell_type": "code",
   "execution_count": 30,
   "metadata": {},
   "outputs": [
    {
     "name": "stdout",
     "output_type": "stream",
     "text": [
      "max length = 593\n",
      "One place Lindsay is finding this particularly difficult though is at the Betty Ford Centre , where the actress has just finished 30 days' worth of treatment and has decided that the renowned facilities there won't be enough to keep her around for her court - ordered 90 - day stay in rehab , so she's <@rg1>gone</@rg1> elsewhere .According to a report from TMZ published this week ( June 13 ) , the Mean Girls actress has <@rg2>had enough</@rg2> of the Palm Springs rehab centre and has decided to spend the rest of her court - ordered stay in a rehab centre in Malibu , named the Cliffside .\n"
     ]
    }
   ],
   "source": [
    "find_len_max(data)"
   ]
  },
  {
   "cell_type": "markdown",
   "metadata": {},
   "source": [
    "### Data set statistics"
   ]
  },
  {
   "cell_type": "code",
   "execution_count": null,
   "metadata": {
    "pycharm": {
     "name": "#%%\n"
    }
   },
   "outputs": [],
   "source": [
    "import os\n",
    "import pandas as pd\n",
    "\n",
    "data_path = 'data/causal/gold_causal.csv'\n",
    "if os.path.exists(data_path):\n",
    "    data = pd.read_csv(data_path)\n",
    "else:\n",
    "    data = obj.read_all()\n",
    "data.to_csv('data/causal/gold_causal.csv')\n",
    "train = data.loc[data.split == 0]\n",
    "dev = data.loc[data.split == 1]\n",
    "test = data.loc[data.split == 2]\n",
    "pos = data.loc[data.label == 1]\n",
    "neg = data.loc[data.label == 0]\n",
    "print(\"Total samples: \" + str(len(data)))\n",
    "print(\"----------------------------\")\n",
    "print(\"# Cuasal: \" + str(len(pos)))\n",
    "print(\"# Non-Cuasal: \" + str(len(neg)))\n",
    "print(\"----------------------------\")\n",
    "print(\"# train: \" + str(len(train)))\n",
    "print(\"# dev: \" + str(len(dev)))\n",
    "print(\"# test: \" + str(len(test)))\n",
    "print(\"----------------------------\")\n",
    "for i in range(7):\n",
    "    print(\"# source [\" + str(i+1) + \"]: \" + str(len(data.loc[data.source == (i+1)])))"
   ]
  },
  {
   "cell_type": "code",
   "execution_count": null,
   "metadata": {
    "pycharm": {
     "name": "#%%\n"
    }
   },
   "outputs": [],
   "source": [
    "# checking if all samples have labels\n",
    "print(\"# unlabeled samples: \" + str(len(data.loc[(data.label != 0) & (data.label != 1)])))"
   ]
  },
  {
   "cell_type": "code",
   "execution_count": null,
   "metadata": {
    "pycharm": {
     "name": "#%%\n"
    }
   },
   "outputs": [],
   "source": []
  }
 ],
 "metadata": {
  "kernelspec": {
   "display_name": "Python 3",
   "language": "python",
   "name": "python3"
  },
  "language_info": {
   "codemirror_mode": {
    "name": "ipython",
    "version": 3
   },
   "file_extension": ".py",
   "mimetype": "text/x-python",
   "name": "python",
   "nbconvert_exporter": "python",
   "pygments_lexer": "ipython3",
   "version": "3.7.2"
  },
  "pycharm": {
   "stem_cell": {
    "cell_type": "raw",
    "metadata": {
     "collapsed": false
    },
    "source": []
   }
  }
 },
 "nbformat": 4,
 "nbformat_minor": 1
}
